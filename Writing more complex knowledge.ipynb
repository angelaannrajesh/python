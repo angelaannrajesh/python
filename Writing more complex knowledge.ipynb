{
 "cells": [
  {
   "cell_type": "code",
   "execution_count": null,
   "id": "4fe56136",
   "metadata": {},
   "outputs": [],
   "source": [
    " \"8\" == \"8\" and 7 < 10 "
   ]
  },
  {
   "cell_type": "code",
   "execution_count": null,
   "id": "32844eb7",
   "metadata": {},
   "outputs": [],
   "source": [
    "8 > 5 and 4 != 9"
   ]
  },
  {
   "cell_type": "code",
   "execution_count": null,
   "id": "da4541f9",
   "metadata": {},
   "outputs": [],
   "source": [
    "True and True"
   ]
  },
  {
   "cell_type": "code",
   "execution_count": null,
   "id": "c9313d51",
   "metadata": {},
   "outputs": [],
   "source": [
    "False and True"
   ]
  },
  {
   "cell_type": "code",
   "execution_count": null,
   "id": "590a2069",
   "metadata": {},
   "outputs": [],
   "source": [
    "False and False"
   ]
  },
  {
   "cell_type": "code",
   "execution_count": null,
   "id": "6d33dbb7",
   "metadata": {},
   "outputs": [],
   "source": [
    "9 > 3 and 6 == 7"
   ]
  },
  {
   "cell_type": "code",
   "execution_count": null,
   "id": "bce4ab16",
   "metadata": {},
   "outputs": [],
   "source": [
    "9 > 3 or 6 == 7"
   ]
  },
  {
   "cell_type": "code",
   "execution_count": null,
   "id": "43073884",
   "metadata": {},
   "outputs": [],
   "source": [
    "day = input(\"What day of the week is it today: \")\n",
    "if day == \"Tuesday\" or day == \"Wednesday\" or day == \"Friday\":\n",
    "    print(\"You have to bring a raincoat and umbrella as it will be raining.\")\n",
    "elif day == \"Monday\" or day == \"Thursday\":\n",
    "    print(\"It will be really hot and sunny , bring a hat and sun glasses.\")\n",
    "if day == \"Saturday\" or day == \"Sunday\":\n",
    "    print(\"It will be perfect day to go out , but wear warm clothes since it is going to be windy\")"
   ]
  },
  {
   "cell_type": "code",
   "execution_count": null,
   "id": "62842582",
   "metadata": {},
   "outputs": [],
   "source": [
    "False"
   ]
  },
  {
   "cell_type": "code",
   "execution_count": null,
   "id": "181f30c8",
   "metadata": {},
   "outputs": [],
   "source": [
    "not False"
   ]
  },
  {
   "cell_type": "code",
   "execution_count": null,
   "id": "d4310ee4",
   "metadata": {},
   "outputs": [],
   "source": [
    "True"
   ]
  },
  {
   "cell_type": "code",
   "execution_count": null,
   "id": "bee8dadd",
   "metadata": {},
   "outputs": [],
   "source": [
    "not True"
   ]
  },
  {
   "cell_type": "code",
   "execution_count": null,
   "id": "60644214",
   "metadata": {},
   "outputs": [],
   "source": [
    "age = 25"
   ]
  },
  {
   "cell_type": "code",
   "execution_count": null,
   "id": "e62f5b5a",
   "metadata": {},
   "outputs": [],
   "source": [
    "age > 19"
   ]
  },
  {
   "cell_type": "code",
   "execution_count": null,
   "id": "9c4d98a0",
   "metadata": {},
   "outputs": [],
   "source": [
    "not age > 19"
   ]
  },
  {
   "cell_type": "code",
   "execution_count": null,
   "id": "72e2a531",
   "metadata": {},
   "outputs": [],
   "source": [
    "str.isnumeric?"
   ]
  },
  {
   "cell_type": "code",
   "execution_count": null,
   "id": "308d19e8",
   "metadata": {},
   "outputs": [],
   "source": [
    "\"39\".isnumeric()"
   ]
  },
  {
   "cell_type": "code",
   "execution_count": null,
   "id": "bcf58cb0",
   "metadata": {},
   "outputs": [],
   "source": [
    "\"abc\".isnumeric()"
   ]
  },
  {
   "cell_type": "code",
   "execution_count": null,
   "id": "009a9e43",
   "metadata": {},
   "outputs": [],
   "source": [
    "year = input(\"What year were you born in? \")"
   ]
  },
  {
   "cell_type": "code",
   "execution_count": null,
   "id": "d173a4ea",
   "metadata": {},
   "outputs": [],
   "source": [
    "year = int(year)"
   ]
  },
  {
   "cell_type": "code",
   "execution_count": null,
   "id": "ae0f87d0",
   "metadata": {},
   "outputs": [],
   "source": [
    "print(f\"You were born {2022-year} years ago\")"
   ]
  },
  {
   "cell_type": "code",
   "execution_count": 11,
   "id": "23443fa7",
   "metadata": {},
   "outputs": [
    {
     "name": "stdout",
     "output_type": "stream",
     "text": [
      "How old are you? 4\n",
      "You are 1460 days old.\n",
      "You are 208 weeks old.\n",
      "You are 48 months old.\n"
     ]
    }
   ],
   "source": [
    "a = input(\"How old are you? \")\n",
    "a = int(a)\n",
    "print(f\"You are {a * 365} days old.\")\n",
    "print(f\"You are {a * 52} weeks old.\")\n",
    "print(f\"You are {a * 12} months old.\")"
   ]
  },
  {
   "cell_type": "code",
   "execution_count": null,
   "id": "f05fb494",
   "metadata": {},
   "outputs": [],
   "source": []
  },
  {
   "cell_type": "code",
   "execution_count": null,
   "id": "496606ed",
   "metadata": {},
   "outputs": [],
   "source": []
  }
 ],
 "metadata": {
  "kernelspec": {
   "display_name": "Python 3",
   "language": "python",
   "name": "python3"
  },
  "language_info": {
   "codemirror_mode": {
    "name": "ipython",
    "version": 3
   },
   "file_extension": ".py",
   "mimetype": "text/x-python",
   "name": "python",
   "nbconvert_exporter": "python",
   "pygments_lexer": "ipython3",
   "version": "3.8.8"
  }
 },
 "nbformat": 4,
 "nbformat_minor": 5
}
