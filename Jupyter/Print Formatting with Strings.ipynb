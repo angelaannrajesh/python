{
 "cells": [
  {
   "cell_type": "code",
   "execution_count": 5,
   "id": "b67932be",
   "metadata": {},
   "outputs": [],
   "source": [
    " my_name = \" Jose\""
   ]
  },
  {
   "cell_type": "code",
   "execution_count": 6,
   "id": "61636c7b",
   "metadata": {},
   "outputs": [
    {
     "name": "stdout",
     "output_type": "stream",
     "text": [
      "Hello Jose\n"
     ]
    }
   ],
   "source": [
    "print(\"Hello\" + my_name)"
   ]
  },
  {
   "cell_type": "code",
   "execution_count": 10,
   "id": "9702e269",
   "metadata": {},
   "outputs": [
    {
     "name": "stdout",
     "output_type": "stream",
     "text": [
      "This is a string INSERTED\n"
     ]
    }
   ],
   "source": [
    "print('This is a string {}' .format('INSERTED'))"
   ]
  },
  {
   "cell_type": "code",
   "execution_count": 13,
   "id": "290d3e92",
   "metadata": {},
   "outputs": [
    {
     "name": "stdout",
     "output_type": "stream",
     "text": [
      "The fox brown quick\n"
     ]
    }
   ],
   "source": [
    "print( 'The {} {} {}' .format('fox','brown','quick'))"
   ]
  },
  {
   "cell_type": "code",
   "execution_count": 14,
   "id": "d9fd8f5f",
   "metadata": {},
   "outputs": [
    {
     "name": "stdout",
     "output_type": "stream",
     "text": [
      "The quick brown fox\n"
     ]
    }
   ],
   "source": [
    "print( 'The {2} {1} {0}' .format('fox','brown','quick'))"
   ]
  },
  {
   "cell_type": "code",
   "execution_count": 15,
   "id": "523e3c9e",
   "metadata": {},
   "outputs": [
    {
     "name": "stdout",
     "output_type": "stream",
     "text": [
      "The fox fox fox\n"
     ]
    }
   ],
   "source": [
    "print( 'The {0} {0} {0}' .format('fox','brown','quick'))"
   ]
  },
  {
   "cell_type": "code",
   "execution_count": 19,
   "id": "ce89fb2f",
   "metadata": {},
   "outputs": [
    {
     "name": "stdout",
     "output_type": "stream",
     "text": [
      "The quick brown fox\n"
     ]
    }
   ],
   "source": [
    "print('The {q} {b} {f}'.format(f = 'fox',b = 'brown', q = 'quick'))"
   ]
  },
  {
   "cell_type": "code",
   "execution_count": 35,
   "id": "e0ed9305",
   "metadata": {},
   "outputs": [
    {
     "name": "stdout",
     "output_type": "stream",
     "text": [
      "The quick brown fox\n"
     ]
    }
   ],
   "source": [
    "print('The {c} {b} {a}'.format(a = 'fox' , b = 'brown' , c = 'quick'))"
   ]
  },
  {
   "cell_type": "code",
   "execution_count": 36,
   "id": "f03ced1f",
   "metadata": {},
   "outputs": [
    {
     "name": "stdout",
     "output_type": "stream",
     "text": [
      "hello\n"
     ]
    }
   ],
   "source": [
    "print(\"\"\"hello\"\"\")"
   ]
  },
  {
   "cell_type": "code",
   "execution_count": 37,
   "id": "697fee5c",
   "metadata": {},
   "outputs": [],
   "source": [
    "result = 100/777"
   ]
  },
  {
   "cell_type": "code",
   "execution_count": 38,
   "id": "81fc13bc",
   "metadata": {},
   "outputs": [
    {
     "data": {
      "text/plain": [
       "0.1287001287001287"
      ]
     },
     "execution_count": 38,
     "metadata": {},
     "output_type": "execute_result"
    }
   ],
   "source": [
    "result"
   ]
  },
  {
   "cell_type": "code",
   "execution_count": 39,
   "id": "5e39db31",
   "metadata": {},
   "outputs": [
    {
     "name": "stdout",
     "output_type": "stream",
     "text": [
      "The result was 0.1287001287001287\n"
     ]
    }
   ],
   "source": [
    "print(\"The result was {r}\". format(r=result))"
   ]
  },
  {
   "cell_type": "code",
   "execution_count": 40,
   "id": "72dec8c6",
   "metadata": {},
   "outputs": [],
   "source": [
    "name = \"Angela\""
   ]
  },
  {
   "cell_type": "code",
   "execution_count": 41,
   "id": "6217fe50",
   "metadata": {},
   "outputs": [
    {
     "name": "stdout",
     "output_type": "stream",
     "text": [
      "Hello, my name is Angela\n"
     ]
    }
   ],
   "source": [
    "print('Hello, my name is {}'.format(name))"
   ]
  },
  {
   "cell_type": "code",
   "execution_count": 42,
   "id": "2402df0d",
   "metadata": {},
   "outputs": [],
   "source": [
    "name = \"I\"\n",
    "age = 10"
   ]
  },
  {
   "cell_type": "code",
   "execution_count": 47,
   "id": "509323ef",
   "metadata": {},
   "outputs": [
    {
     "name": "stdout",
     "output_type": "stream",
     "text": [
      "I am 10 years old.\n"
     ]
    }
   ],
   "source": [
    "print(f'{name} am {age} years old.')"
   ]
  },
  {
   "cell_type": "code",
   "execution_count": null,
   "id": "e3fddd99",
   "metadata": {},
   "outputs": [],
   "source": []
  },
  {
   "cell_type": "code",
   "execution_count": null,
   "id": "774400e1",
   "metadata": {},
   "outputs": [],
   "source": []
  }
 ],
 "metadata": {
  "kernelspec": {
   "display_name": "Python 3",
   "language": "python",
   "name": "python3"
  },
  "language_info": {
   "codemirror_mode": {
    "name": "ipython",
    "version": 3
   },
   "file_extension": ".py",
   "mimetype": "text/x-python",
   "name": "python",
   "nbconvert_exporter": "python",
   "pygments_lexer": "ipython3",
   "version": "3.8.8"
  }
 },
 "nbformat": 4,
 "nbformat_minor": 5
}
