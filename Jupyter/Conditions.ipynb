{
 "cells": [
  {
   "cell_type": "code",
   "execution_count": null,
   "id": "41ca8ea8",
   "metadata": {},
   "outputs": [],
   "source": [
    "print(\"Welcome to the Midnight Feast\")"
   ]
  },
  {
   "cell_type": "code",
   "execution_count": null,
   "id": "3cfe466b",
   "metadata": {},
   "outputs": [],
   "source": [
    "age = input(\"Please enter your age: \" )"
   ]
  },
  {
   "cell_type": "code",
   "execution_count": null,
   "id": "4c662ce1",
   "metadata": {},
   "outputs": [],
   "source": [
    "age = int(age)"
   ]
  },
  {
   "cell_type": "code",
   "execution_count": null,
   "id": "9565b38f",
   "metadata": {},
   "outputs": [],
   "source": [
    "if age >= 10:\n",
    "    print(\"Come on in !!!\")\n",
    "else:\n",
    "    print(\"Sorry but you , have to bring someone older with you \")"
   ]
  },
  {
   "cell_type": "code",
   "execution_count": null,
   "id": "4ffda8c8",
   "metadata": {},
   "outputs": [],
   "source": [
    "gender = input(\"What Gender are you ?:\")"
   ]
  },
  {
   "cell_type": "code",
   "execution_count": null,
   "id": "5d119bb0",
   "metadata": {},
   "outputs": [],
   "source": [
    "if gender == \"female\":\n",
    "    print(\"Great you can come in\")\n",
    "else:\n",
    "    print(\"Nope... sorry boys aren't allowed\")"
   ]
  },
  {
   "cell_type": "code",
   "execution_count": null,
   "id": "e741e7b4",
   "metadata": {},
   "outputs": [],
   "source": [
    "print(\"Welcome to the Midnight Feast\")\n",
    "age = input(\"Please enter your age: \" )\n",
    "age = int(age)\n",
    "if age >= 10:\n",
    "    print(\"Come on in !!!\")\n",
    "else:\n",
    "    print(\"Sorry but you , have to bring someone older with you \")\n",
    "gender = input(\"What Gender are you ?:\")\n",
    "if gender == \"female\":\n",
    "    print(\"Great you can come on in\")\n",
    "else:\n",
    "    print(\"Nope... sorry boys aren't allowed\")"
   ]
  },
  {
   "cell_type": "code",
   "execution_count": null,
   "id": "e0a7ece2",
   "metadata": {},
   "outputs": [],
   "source": [
    "# The personality Quiz"
   ]
  },
  {
   "cell_type": "code",
   "execution_count": null,
   "id": "4a0865fe",
   "metadata": {},
   "outputs": [],
   "source": [
    "print(\"Welcome to the personality quiz, where all you have to do is answer some questions\")"
   ]
  },
  {
   "cell_type": "code",
   "execution_count": null,
   "id": "f58ee6c5",
   "metadata": {},
   "outputs": [],
   "source": [
    "print(\"Guess the Number\")\n",
    "print(\"                    \")\n",
    "\n",
    "num = 3\n",
    "if num > 2:\n",
    "    print(\"Your number is above 2\")\n",
    "if num < 10:\n",
    "    print(\"Your number is less than 10\")\n",
    "if num >= 3:\n",
    "    print(\"Your number is either 3 or more than 3\")\n"
   ]
  },
  {
   "cell_type": "code",
   "execution_count": null,
   "id": "b493ab3d",
   "metadata": {},
   "outputs": [],
   "source": [
    "print(\"Welcome to the Parents Parade\")\n",
    "age = input(\"Please enter your age: \")\n",
    "age = int(age)\n",
    "if age < 25:\n",
    "    print(\"Sorry but you aren't old enough to come\")\n",
    "elif age > 50:\n",
    "    print(\"I'm afraid your too old to come\")\n",
    "else:\n",
    "    print(\"Come on in\")    "
   ]
  },
  {
   "cell_type": "code",
   "execution_count": null,
   "id": "f335247d",
   "metadata": {},
   "outputs": [
    {
     "name": "stdout",
     "output_type": "stream",
     "text": [
      "Personality Test\n"
     ]
    }
   ],
   "source": [
    "print(\"Personality Test\")\n",
    "color = input(\"Please enter your favourite color: \")\n",
    "\n",
    "if color == \"red\":\n",
    "    print(\"You are a passionate and energetic person, and is not afraid of taking risks.\")\n",
    "if color == \"orange\":\n",
    "    print(\"You are optimistic and bold, you love to be with people and is always positive\")\n",
    "if color == \"yellow\":\n",
    "    print(\"You are always filled with happiness,and loves to learn\")\n",
    "if color == \"green\":\n",
    "    print(\"You are loyal and consider your reputation important, you are also very calm\")\n",
    "if color == \"blue\":\n",
    "    print(\"You are a honest person, who value friendship\")\n",
    "if color == \"purple\":\n",
    "    print(\"You are a creative person, who is always willing to help, and want to be perfect as much as possible\")\n",
    "if color == \"black\":\n",
    "    print(\"You are often artisitc and sensitive, and is seen as mysterious around others\")"
   ]
  },
  {
   "cell_type": "code",
   "execution_count": null,
   "id": "b6de33e5",
   "metadata": {},
   "outputs": [],
   "source": []
  },
  {
   "cell_type": "code",
   "execution_count": null,
   "id": "c105aed8",
   "metadata": {},
   "outputs": [],
   "source": []
  },
  {
   "cell_type": "code",
   "execution_count": null,
   "id": "9208b787",
   "metadata": {},
   "outputs": [],
   "source": []
  }
 ],
 "metadata": {
  "kernelspec": {
   "display_name": "Python 3",
   "language": "python",
   "name": "python3"
  },
  "language_info": {
   "codemirror_mode": {
    "name": "ipython",
    "version": 3
   },
   "file_extension": ".py",
   "mimetype": "text/x-python",
   "name": "python",
   "nbconvert_exporter": "python",
   "pygments_lexer": "ipython3",
   "version": "3.8.8"
  }
 },
 "nbformat": 4,
 "nbformat_minor": 5
}
