{
 "cells": [
  {
   "cell_type": "code",
   "execution_count": 1,
   "id": "8b7f1357",
   "metadata": {},
   "outputs": [
    {
     "name": "stdout",
     "output_type": "stream",
     "text": [
      "Enter a color: blue\n",
      "blue is also my favourite color\n"
     ]
    }
   ],
   "source": [
    "color = input(\"Enter a color: \")\n",
    "if color:\n",
    "    print(f\"{color} is also my favourite color\")\n",
    "else:\n",
    "    print(\"Nothing Is InHere\")"
   ]
  },
  {
   "cell_type": "code",
   "execution_count": 2,
   "id": "0ce5f4ab",
   "metadata": {},
   "outputs": [],
   "source": [
    "# Rock, Paper, Scissors excercise intro"
   ]
  },
  {
   "cell_type": "code",
   "execution_count": 3,
   "id": "017e4f11",
   "metadata": {},
   "outputs": [
    {
     "name": "stdout",
     "output_type": "stream",
     "text": [
      "enter your move player 1:paper\n",
      "enter your move player 2: rock\n"
     ]
    }
   ],
   "source": [
    "# This is just a trial of the game\n",
    "player_1 = input(\"enter your move player 1:\")\n",
    "player_2 = input(\"enter your move player 2: \")\n",
    "if player_2 == \"paper\" :\n",
    "    print(\"  _______ \")\n",
    "    print(\"---'   ____)____\")\n",
    "    print(\"          ______)\")\n",
    "    print(\"          _______)\")\n",
    "    print(\"         _______)\")\n",
    "    print(\"---.__________)\")\n",
    "if player_1 == \"rock\":\n",
    "    print(\"    _______\")\n",
    "    print(\"---'   ____)\")\n",
    "    print(\"      (_____)\")\n",
    "    print(\"      (_____)\")\n",
    "    print(\"      (____)\")\n",
    "    print(\"---.__(___)\")\n",
    "    print(\"Player 1 You win !!!\")"
   ]
  },
  {
   "cell_type": "code",
   "execution_count": null,
   "id": "cdcd9703",
   "metadata": {},
   "outputs": [],
   "source": [
    "# This is the real exercise\n",
    "from random import randint\n",
    "a = randint(1,3)\n",
    "\n",
    "\n",
    "rock = \"\"\"\n",
    "\n",
    "    _______\n",
    "---'   ____)\n",
    "      (_____)\n",
    "      (_____)\n",
    "      (____)\n",
    "---.__(___)\n",
    "\"\"\"\n",
    "\n",
    "paper = \"\"\"\n",
    "\n",
    "    _______\n",
    "---'   ____)____\n",
    "          ______)\n",
    "          _______)\n",
    "         _______)\n",
    "---.__________)\n",
    "\n",
    "\"\"\"\n",
    "\n",
    "scissor = \"\"\"\n",
    "\n",
    "    _______\n",
    "---'   ____)____\n",
    "          ______)\n",
    "       __________)\n",
    "      (____)\n",
    "---.__(___)\n",
    "\n",
    "\"\"\"\n",
    "player = input(\"enter you move: \").lower()\n",
    "\n",
    "if a == 1 and player == \"rock\":\n",
    "    print('ITS A TIE')\n",
    "elif a == 2 and player == \"paper\":\n",
    "    print('ITS A TIE')\n",
    "elif a == 3 and player == \"scissor\":\n",
    "    print(\"ITS A TIE\")\n",
    "elif a == 1 and player == \"paper\":\n",
    "    print(\"PLAYER WINS\")\n",
    "elif a == 1 and player == \"scissor\":\n",
    "    print(\"COMPUTER WINS\")\n",
    "elif a == 2 and player == \"scissor\":\n",
    "    print(\"PLAYER WINS\")\n",
    "elif a == 2 and player == \"rock\":\n",
    "    print(\"COMPUTER WINS\")\n",
    "elif a == 3 and player == \"rock\":\n",
    "    print(\"PLAYER WINS\")\n",
    "elif a == 3 and player == \"paper\":\n",
    "    print(\"COMPUTER WINS\")\n",
    "if a == 1:\n",
    "    print(\"Computer Move\")\n",
    "    print(rock)\n",
    "elif a == 2:\n",
    "    print(\"Computer Move\")\n",
    "    print(paper)\n",
    "elif a == 3:\n",
    "    print(\"Computer Move\")\n",
    "    print(scissor) \n",
    "if player == \"rock\":\n",
    "    print(\"Player Move\")\n",
    "    print(rock)\n",
    "elif player == \"paper\":\n",
    "    print(\"Player Move\")\n",
    "    print(paper)\n",
    "elif player == \"scissor\":\n",
    "    print(\"Player Move\")\n",
    "    print(scissor)"
   ]
  },
  {
   "cell_type": "code",
   "execution_count": null,
   "id": "7d47cb19",
   "metadata": {},
   "outputs": [],
   "source": [
    "if computer == \"paper\" and player == \"paper\""
   ]
  },
  {
   "cell_type": "code",
   "execution_count": null,
   "id": "9dd47e85",
   "metadata": {},
   "outputs": [],
   "source": []
  },
  {
   "cell_type": "code",
   "execution_count": null,
   "id": "cb7a699e",
   "metadata": {},
   "outputs": [],
   "source": []
  },
  {
   "cell_type": "code",
   "execution_count": null,
   "id": "e4a5dced",
   "metadata": {},
   "outputs": [],
   "source": []
  }
 ],
 "metadata": {
  "kernelspec": {
   "display_name": "Python 3",
   "language": "python",
   "name": "python3"
  },
  "language_info": {
   "codemirror_mode": {
    "name": "ipython",
    "version": 3
   },
   "file_extension": ".py",
   "mimetype": "text/x-python",
   "name": "python",
   "nbconvert_exporter": "python",
   "pygments_lexer": "ipython3",
   "version": "3.8.8"
  }
 },
 "nbformat": 4,
 "nbformat_minor": 5
}
