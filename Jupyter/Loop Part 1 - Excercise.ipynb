{
 "cells": [
  {
   "cell_type": "code",
   "execution_count": null,
   "id": "8012fb64",
   "metadata": {},
   "outputs": [],
   "source": [
    "# Loop Part 1 - Excercise"
   ]
  },
  {
   "cell_type": "code",
   "execution_count": null,
   "id": "90f8277d",
   "metadata": {},
   "outputs": [],
   "source": [
    "#  ----------\n",
    "#    PART 1\n",
    "#  ----------\n",
    "word = \"supercalifragilisticexpialidocious\"\n",
    "\n",
    "# Write a for loop that prints out each character in the above \"word\" variable\n",
    "\n",
    "#  ----------\n",
    "#    PART 2\n",
    "#  ----------\n",
    "\n",
    "# Write a for loop for the even numbers from 100 to 140 (including 140) (with range())\n",
    "\n",
    "\n",
    "\n",
    "#  ----------\n",
    "#    PART 3\n",
    "#  ----------\n",
    "# Write a while loop that asks a user to input the passphrase \"sillygoose\" and keeps asking them to do so until they reply:"
   ]
  },
  {
   "cell_type": "code",
   "execution_count": null,
   "id": "536febda",
   "metadata": {},
   "outputs": [],
   "source": [
    "word = \"supercalifragilisticexpialidocious\"d"
   ]
  },
  {
   "cell_type": "code",
   "execution_count": null,
   "id": "8008b1f5",
   "metadata": {},
   "outputs": [],
   "source": [
    "word = \"supercalifragilisticexpialidocious\"\n",
    "# for loop\n",
    "for character in word:\n",
    "    print(character)\n",
    "    \n",
    "for a in range(100,142,2):\n",
    "    print(a)\n",
    "    \n",
    "question = input(\"Enter the passphrase: \")\n",
    "while question != \"sillygoose\":\n",
    "    question = input(\"Enter the passphrase: \")"
   ]
  },
  {
   "cell_type": "code",
   "execution_count": null,
   "id": "dc2cf45d",
   "metadata": {},
   "outputs": [],
   "source": []
  },
  {
   "cell_type": "code",
   "execution_count": null,
   "id": "ca98a721",
   "metadata": {},
   "outputs": [],
   "source": []
  }
 ],
 "metadata": {
  "kernelspec": {
   "display_name": "Python 3",
   "language": "python",
   "name": "python3"
  },
  "language_info": {
   "codemirror_mode": {
    "name": "ipython",
    "version": 3
   },
   "file_extension": ".py",
   "mimetype": "text/x-python",
   "name": "python",
   "nbconvert_exporter": "python",
   "pygments_lexer": "ipython3",
   "version": "3.8.8"
  }
 },
 "nbformat": 4,
 "nbformat_minor": 5
}
