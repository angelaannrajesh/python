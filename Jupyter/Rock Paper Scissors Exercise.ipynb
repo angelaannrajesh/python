{
 "cells": [
  {
   "cell_type": "code",
   "execution_count": 3,
   "id": "8d049962",
   "metadata": {},
   "outputs": [
    {
     "name": "stdout",
     "output_type": "stream",
     "text": [
      "1 is the number\n",
      "\n",
      "    _______\n",
      "---'   ____)\n",
      "      (_____)\n",
      "      (_____)\n",
      "      (____)\n",
      "---.__(___)\n"
     ]
    }
   ],
   "source": [
    "rock = \"\"\"\n",
    "    _______\n",
    "---'   ____)\n",
    "      (_____)\n",
    "      (_____)\n",
    "      (____)\n",
    "---.__(___)\"\"\"\n",
    "\n",
    "paper = \"\"\"\n",
    "    _______\n",
    "---'   ____)____\n",
    "          ______)\n",
    "          _______)\n",
    "         _______)\n",
    "---.__________)\n",
    "\"\"\"\n",
    "\n",
    "scissor = \n",
    "from random import randint\n",
    "# Pick a random number from 1 to 3\n",
    "num = randint(1,3)\n",
    "print(f\"{num} is the number\")\n",
    "# Turn that random number into the computer's RPS move\n",
    "if num == 1:\n",
    "    print(rock)\n",
    "elif num == 2:\n",
    "    print(paper)\n",
    "elif num == 3:\n",
    "    print(scissor)"
   ]
  },
  {
   "cell_type": "code",
   "execution_count": null,
   "id": "afb86bc9",
   "metadata": {},
   "outputs": [],
   "source": []
  },
  {
   "cell_type": "code",
   "execution_count": null,
   "id": "6e07cec5",
   "metadata": {},
   "outputs": [],
   "source": []
  },
  {
   "cell_type": "code",
   "execution_count": null,
   "id": "c39cf934",
   "metadata": {},
   "outputs": [],
   "source": []
  },
  {
   "cell_type": "code",
   "execution_count": null,
   "id": "009abfa4",
   "metadata": {},
   "outputs": [],
   "source": []
  },
  {
   "cell_type": "code",
   "execution_count": null,
   "id": "7f63965b",
   "metadata": {},
   "outputs": [],
   "source": []
  },
  {
   "cell_type": "code",
   "execution_count": null,
   "id": "b3a5043d",
   "metadata": {},
   "outputs": [],
   "source": []
  },
  {
   "cell_type": "code",
   "execution_count": null,
   "id": "80811c69",
   "metadata": {},
   "outputs": [
    {
     "name": "stdout",
     "output_type": "stream",
     "text": [
      "\n",
      "    _______\n",
      "---'   ____)____\n",
      "          ______)\n",
      "       __________)\n",
      "      (____)\n",
      "---.__(___)\n",
      "\n"
     ]
    }
   ],
   "source": [
    "from random import randint\n",
    "# Pick a random number from 1 to 3\n",
    "num = randint(1,3)\n",
    "\n",
    "# Turn that random number into the computer's RPS move\n",
    "if num == 1:\n",
    "    print(rock)\n",
    "elif num == 2:\n",
    "    print(paper)\n",
    "elif num == 3:\n",
    "    print(scissor)\n",
    "# Ask a user to enter their move\n",
    "user = input(\"Enter you move: \")\n",
    "# Print the rock, paper, or scissors ASCII art that corresponds to the player's move\n",
    "if user == \"paper\":\n",
    "    print(paper)\n",
    "elif user == \"rock\":\n",
    "    print(rock)\n",
    "elif user == \"scissor\":\n",
    "    print(scissor)\n",
    "# Print the rock, paper, or scissors ASCII art that corresponds to the computer's move\n",
    "\n",
    "\n",
    "# Figure out who wins and print the result!\n"
   ]
  },
  {
   "cell_type": "code",
   "execution_count": null,
   "id": "15eed49c",
   "metadata": {},
   "outputs": [],
   "source": []
  }
 ],
 "metadata": {
  "kernelspec": {
   "display_name": "Python 3",
   "language": "python",
   "name": "python3"
  },
  "language_info": {
   "codemirror_mode": {
    "name": "ipython",
    "version": 3
   },
   "file_extension": ".py",
   "mimetype": "text/x-python",
   "name": "python",
   "nbconvert_exporter": "python",
   "pygments_lexer": "ipython3",
   "version": "3.8.8"
  }
 },
 "nbformat": 4,
 "nbformat_minor": 5
}
