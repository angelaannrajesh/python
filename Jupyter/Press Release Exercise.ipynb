{
 "cells": [
  {
   "cell_type": "code",
   "execution_count": 19,
   "id": "4e35f521",
   "metadata": {},
   "outputs": [],
   "source": [
    "press_release = (\" Doody Calls, a nationwide leader in dog poop removal services, is growing its footprint in the pooper scooper industry with the opening of an office in Orlando, Florida. Doody Calls currently cleans up dog poop in over 57 territories across 23 states and has been named the number-one dog poop removal franchise in the United States by Entrepreneur Magazine's annual Franchise 500 list.\")"
   ]
  },
  {
   "cell_type": "code",
   "execution_count": 20,
   "id": "eed8b131",
   "metadata": {},
   "outputs": [
    {
     "data": {
      "text/plain": [
       "\" Doody Calls, a nationwide leader in dog poop removal services, is growing its footprint in the pooper scooper industry with the opening of an office in Orlando, Florida. Doody Calls currently cleans up dog poop in over 57 territories across 23 states and has been named the number-one dog poop removal franchise in the United States by Entrepreneur Magazine's annual Franchise 500 list.\""
      ]
     },
     "execution_count": 20,
     "metadata": {},
     "output_type": "execute_result"
    }
   ],
   "source": [
    "press_release "
   ]
  },
  {
   "cell_type": "code",
   "execution_count": 21,
   "id": "8999031f",
   "metadata": {
    "scrolled": true
   },
   "outputs": [
    {
     "data": {
      "text/plain": [
       "\"Doody Calls, a nationwide leader in dog poop removal services, is growing its footprint in the pooper scooper industry with the opening of an office in Orlando, Florida. Doody Calls currently cleans up dog poop in over 57 territories across 23 states and has been named the number-one dog poop removal franchise in the United States by Entrepreneur Magazine's annual Franchise 500 list.\""
      ]
     },
     "execution_count": 21,
     "metadata": {},
     "output_type": "execute_result"
    }
   ],
   "source": [
    "press_release.strip()"
   ]
  },
  {
   "cell_type": "code",
   "execution_count": 28,
   "id": "3c728132",
   "metadata": {},
   "outputs": [
    {
     "data": {
      "text/plain": [
       "\"DOODYCALLS, A NATIONWIDE LEADER IN PET WASTE REMOVAL SERVICES, IS GROWING ITS FOOTPRINT IN THE POOPER SCOOPER INDUSTRY WITH THE OPENING OF AN OFFICE IN ORLANDO, FLORIDA. DOODYCALLS CURRENTLY CLEANS UP PET WASTE IN OVER 57 TERRITORIES ACROSS 23 STATES AND HAS BEEN NAMED THE NUMBER-ONE PET WASTE REMOVAL FRANCHISE IN THE UNITED STATES BY ENTREPRENEUR MAGAZINE'S ANNUAL FRANCHISE 500 LIST.\""
      ]
     },
     "execution_count": 28,
     "metadata": {},
     "output_type": "execute_result"
    }
   ],
   "source": [
    "press_release.replace(\"dog poop\",\"pet waste\").replace(\"Doody Calls\",\"DoodyCalls\").upper().strip()"
   ]
  },
  {
   "cell_type": "code",
   "execution_count": 29,
   "id": "b3012743",
   "metadata": {},
   "outputs": [
    {
     "name": "stdout",
     "output_type": "stream",
     "text": [
      "DOODYCALLS, A NATIONWIDE LEADER IN PET WASTE REMOVAL SERVICES, IS GROWING ITS FOOTPRINT IN THE POOPER SCOOPER INDUSTRY WITH THE OPENING OF AN OFFICE IN ORLANDO, FLORIDA. DOODYCALLS CURRENTLY CLEANS UP PET WASTE IN OVER 57 TERRITORIES ACROSS 23 STATES AND HAS BEEN NAMED THE NUMBER-ONE PET WASTE REMOVAL FRANCHISE IN THE UNITED STATES BY ENTREPRENEUR MAGAZINE'S ANNUAL FRANCHISE 500 LIST.\n"
     ]
    }
   ],
   "source": [
    "print(press_release.replace(\"dog poop\",\"pet waste\").replace(\"Doody Calls\",\"DoodyCalls\").upper().strip())"
   ]
  },
  {
   "cell_type": "code",
   "execution_count": null,
   "id": "fe832655",
   "metadata": {},
   "outputs": [],
   "source": []
  },
  {
   "cell_type": "code",
   "execution_count": null,
   "id": "ced0e43a",
   "metadata": {},
   "outputs": [],
   "source": []
  }
 ],
 "metadata": {
  "kernelspec": {
   "display_name": "Python 3",
   "language": "python",
   "name": "python3"
  },
  "language_info": {
   "codemirror_mode": {
    "name": "ipython",
    "version": 3
   },
   "file_extension": ".py",
   "mimetype": "text/x-python",
   "name": "python",
   "nbconvert_exporter": "python",
   "pygments_lexer": "ipython3",
   "version": "3.8.8"
  }
 },
 "nbformat": 4,
 "nbformat_minor": 5
}
