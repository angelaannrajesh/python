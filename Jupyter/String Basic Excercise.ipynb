{
 "cells": [
  {
   "cell_type": "code",
   "execution_count": 29,
   "id": "90ab93a6",
   "metadata": {},
   "outputs": [],
   "source": [
    "# - Create a variable called \"full_name\" that combines first and last with a space between them.  \n",
    "# - Print it out\n",
    "\n",
    "\n",
    "\n",
    "# - Create an \"initials\" variable that holds the first character of first followed by the first character of last. \n",
    "# - Print it out\n",
    "\n",
    "\n",
    "# - Create an \"initials_2\" variable that holds the first character of first followed and the last words by the last character . \n",
    "# - Print it out\n",
    "\n",
    "# - Create a \"a\" variable that says \"Nico Hulkenberg is amazing\"\n",
    "# - Print it out"
   ]
  },
  {
   "cell_type": "code",
   "execution_count": 3,
   "id": "ba32b4a9",
   "metadata": {},
   "outputs": [],
   "source": [
    "first = \"Nico\""
   ]
  },
  {
   "cell_type": "code",
   "execution_count": 4,
   "id": "1d67b131",
   "metadata": {},
   "outputs": [],
   "source": [
    "last = \"Hulkenberg\""
   ]
  },
  {
   "cell_type": "code",
   "execution_count": 5,
   "id": "624c7ba5",
   "metadata": {},
   "outputs": [],
   "source": [
    "full_name = first + \" \" + last"
   ]
  },
  {
   "cell_type": "code",
   "execution_count": 10,
   "id": "27667c57",
   "metadata": {},
   "outputs": [
    {
     "name": "stdout",
     "output_type": "stream",
     "text": [
      "Nico Hulkenberg\n"
     ]
    }
   ],
   "source": [
    "print(full_name)"
   ]
  },
  {
   "cell_type": "code",
   "execution_count": 11,
   "id": "97a178a4",
   "metadata": {},
   "outputs": [],
   "source": [
    "initials = first[0] + last[0]"
   ]
  },
  {
   "cell_type": "code",
   "execution_count": 12,
   "id": "57a8e1a1",
   "metadata": {},
   "outputs": [
    {
     "name": "stdout",
     "output_type": "stream",
     "text": [
      "NH\n"
     ]
    }
   ],
   "source": [
    "print(initials)"
   ]
  },
  {
   "cell_type": "code",
   "execution_count": 20,
   "id": "236ee9bb",
   "metadata": {},
   "outputs": [],
   "source": [
    "initials_2 = first[0] + last[2:] "
   ]
  },
  {
   "cell_type": "code",
   "execution_count": 21,
   "id": "56773524",
   "metadata": {},
   "outputs": [
    {
     "name": "stdout",
     "output_type": "stream",
     "text": [
      "Nlkenberg\n"
     ]
    }
   ],
   "source": [
    "print(initials_2)"
   ]
  },
  {
   "cell_type": "code",
   "execution_count": 23,
   "id": "07c1319a",
   "metadata": {},
   "outputs": [
    {
     "data": {
      "text/plain": [
       "'NH Nlkenberg'"
      ]
     },
     "execution_count": 23,
     "metadata": {},
     "output_type": "execute_result"
    }
   ],
   "source": [
    "initials + \" \" + initials_2"
   ]
  },
  {
   "cell_type": "code",
   "execution_count": 26,
   "id": "7bcac3c9",
   "metadata": {},
   "outputs": [],
   "source": [
    "a = full_name + \" is amazing\""
   ]
  },
  {
   "cell_type": "code",
   "execution_count": 27,
   "id": "a4d9cc88",
   "metadata": {},
   "outputs": [
    {
     "data": {
      "text/plain": [
       "'Nico Hulkenberg is amazing'"
      ]
     },
     "execution_count": 27,
     "metadata": {},
     "output_type": "execute_result"
    }
   ],
   "source": [
    "a"
   ]
  },
  {
   "cell_type": "code",
   "execution_count": null,
   "id": "8778a4b8",
   "metadata": {},
   "outputs": [],
   "source": []
  }
 ],
 "metadata": {
  "kernelspec": {
   "display_name": "Python 3",
   "language": "python",
   "name": "python3"
  },
  "language_info": {
   "codemirror_mode": {
    "name": "ipython",
    "version": 3
   },
   "file_extension": ".py",
   "mimetype": "text/x-python",
   "name": "python",
   "nbconvert_exporter": "python",
   "pygments_lexer": "ipython3",
   "version": "3.8.8"
  }
 },
 "nbformat": 4,
 "nbformat_minor": 5
}
