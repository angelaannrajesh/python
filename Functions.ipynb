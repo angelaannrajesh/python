{
 "cells": [
  {
   "cell_type": "code",
   "execution_count": 1,
   "id": "330d7380",
   "metadata": {},
   "outputs": [],
   "source": [
    "# Functions"
   ]
  },
  {
   "cell_type": "code",
   "execution_count": 2,
   "id": "c0fcadaf",
   "metadata": {},
   "outputs": [
    {
     "data": {
      "text/plain": [
       "str"
      ]
     },
     "execution_count": 2,
     "metadata": {},
     "output_type": "execute_result"
    }
   ],
   "source": [
    "type(\"hello\")"
   ]
  },
  {
   "cell_type": "code",
   "execution_count": 3,
   "id": "356c8571",
   "metadata": {},
   "outputs": [
    {
     "name": "stdout",
     "output_type": "stream",
     "text": [
      "Help on class int in module builtins:\n",
      "\n",
      "class int(object)\n",
      " |  int([x]) -> integer\n",
      " |  int(x, base=10) -> integer\n",
      " |  \n",
      " |  Convert a number or string to an integer, or return 0 if no arguments\n",
      " |  are given.  If x is a number, return x.__int__().  For floating point\n",
      " |  numbers, this truncates towards zero.\n",
      " |  \n",
      " |  If x is not a number or if base is given, then x must be a string,\n",
      " |  bytes, or bytearray instance representing an integer literal in the\n",
      " |  given base.  The literal can be preceded by '+' or '-' and be surrounded\n",
      " |  by whitespace.  The base defaults to 10.  Valid bases are 0 and 2-36.\n",
      " |  Base 0 means to interpret the base from the string as an integer literal.\n",
      " |  >>> int('0b100', base=0)\n",
      " |  4\n",
      " |  \n",
      " |  Built-in subclasses:\n",
      " |      bool\n",
      " |  \n",
      " |  Methods defined here:\n",
      " |  \n",
      " |  __abs__(self, /)\n",
      " |      abs(self)\n",
      " |  \n",
      " |  __add__(self, value, /)\n",
      " |      Return self+value.\n",
      " |  \n",
      " |  __and__(self, value, /)\n",
      " |      Return self&value.\n",
      " |  \n",
      " |  __bool__(self, /)\n",
      " |      self != 0\n",
      " |  \n",
      " |  __ceil__(...)\n",
      " |      Ceiling of an Integral returns itself.\n",
      " |  \n",
      " |  __divmod__(self, value, /)\n",
      " |      Return divmod(self, value).\n",
      " |  \n",
      " |  __eq__(self, value, /)\n",
      " |      Return self==value.\n",
      " |  \n",
      " |  __float__(self, /)\n",
      " |      float(self)\n",
      " |  \n",
      " |  __floor__(...)\n",
      " |      Flooring an Integral returns itself.\n",
      " |  \n",
      " |  __floordiv__(self, value, /)\n",
      " |      Return self//value.\n",
      " |  \n",
      " |  __format__(self, format_spec, /)\n",
      " |      Default object formatter.\n",
      " |  \n",
      " |  __ge__(self, value, /)\n",
      " |      Return self>=value.\n",
      " |  \n",
      " |  __getattribute__(self, name, /)\n",
      " |      Return getattr(self, name).\n",
      " |  \n",
      " |  __getnewargs__(self, /)\n",
      " |  \n",
      " |  __gt__(self, value, /)\n",
      " |      Return self>value.\n",
      " |  \n",
      " |  __hash__(self, /)\n",
      " |      Return hash(self).\n",
      " |  \n",
      " |  __index__(self, /)\n",
      " |      Return self converted to an integer, if self is suitable for use as an index into a list.\n",
      " |  \n",
      " |  __int__(self, /)\n",
      " |      int(self)\n",
      " |  \n",
      " |  __invert__(self, /)\n",
      " |      ~self\n",
      " |  \n",
      " |  __le__(self, value, /)\n",
      " |      Return self<=value.\n",
      " |  \n",
      " |  __lshift__(self, value, /)\n",
      " |      Return self<<value.\n",
      " |  \n",
      " |  __lt__(self, value, /)\n",
      " |      Return self<value.\n",
      " |  \n",
      " |  __mod__(self, value, /)\n",
      " |      Return self%value.\n",
      " |  \n",
      " |  __mul__(self, value, /)\n",
      " |      Return self*value.\n",
      " |  \n",
      " |  __ne__(self, value, /)\n",
      " |      Return self!=value.\n",
      " |  \n",
      " |  __neg__(self, /)\n",
      " |      -self\n",
      " |  \n",
      " |  __or__(self, value, /)\n",
      " |      Return self|value.\n",
      " |  \n",
      " |  __pos__(self, /)\n",
      " |      +self\n",
      " |  \n",
      " |  __pow__(self, value, mod=None, /)\n",
      " |      Return pow(self, value, mod).\n",
      " |  \n",
      " |  __radd__(self, value, /)\n",
      " |      Return value+self.\n",
      " |  \n",
      " |  __rand__(self, value, /)\n",
      " |      Return value&self.\n",
      " |  \n",
      " |  __rdivmod__(self, value, /)\n",
      " |      Return divmod(value, self).\n",
      " |  \n",
      " |  __repr__(self, /)\n",
      " |      Return repr(self).\n",
      " |  \n",
      " |  __rfloordiv__(self, value, /)\n",
      " |      Return value//self.\n",
      " |  \n",
      " |  __rlshift__(self, value, /)\n",
      " |      Return value<<self.\n",
      " |  \n",
      " |  __rmod__(self, value, /)\n",
      " |      Return value%self.\n",
      " |  \n",
      " |  __rmul__(self, value, /)\n",
      " |      Return value*self.\n",
      " |  \n",
      " |  __ror__(self, value, /)\n",
      " |      Return value|self.\n",
      " |  \n",
      " |  __round__(...)\n",
      " |      Rounding an Integral returns itself.\n",
      " |      Rounding with an ndigits argument also returns an integer.\n",
      " |  \n",
      " |  __rpow__(self, value, mod=None, /)\n",
      " |      Return pow(value, self, mod).\n",
      " |  \n",
      " |  __rrshift__(self, value, /)\n",
      " |      Return value>>self.\n",
      " |  \n",
      " |  __rshift__(self, value, /)\n",
      " |      Return self>>value.\n",
      " |  \n",
      " |  __rsub__(self, value, /)\n",
      " |      Return value-self.\n",
      " |  \n",
      " |  __rtruediv__(self, value, /)\n",
      " |      Return value/self.\n",
      " |  \n",
      " |  __rxor__(self, value, /)\n",
      " |      Return value^self.\n",
      " |  \n",
      " |  __sizeof__(self, /)\n",
      " |      Returns size in memory, in bytes.\n",
      " |  \n",
      " |  __sub__(self, value, /)\n",
      " |      Return self-value.\n",
      " |  \n",
      " |  __truediv__(self, value, /)\n",
      " |      Return self/value.\n",
      " |  \n",
      " |  __trunc__(...)\n",
      " |      Truncating an Integral returns itself.\n",
      " |  \n",
      " |  __xor__(self, value, /)\n",
      " |      Return self^value.\n",
      " |  \n",
      " |  as_integer_ratio(self, /)\n",
      " |      Return integer ratio.\n",
      " |      \n",
      " |      Return a pair of integers, whose ratio is exactly equal to the original int\n",
      " |      and with a positive denominator.\n",
      " |      \n",
      " |      >>> (10).as_integer_ratio()\n",
      " |      (10, 1)\n",
      " |      >>> (-10).as_integer_ratio()\n",
      " |      (-10, 1)\n",
      " |      >>> (0).as_integer_ratio()\n",
      " |      (0, 1)\n",
      " |  \n",
      " |  bit_length(self, /)\n",
      " |      Number of bits necessary to represent self in binary.\n",
      " |      \n",
      " |      >>> bin(37)\n",
      " |      '0b100101'\n",
      " |      >>> (37).bit_length()\n",
      " |      6\n",
      " |  \n",
      " |  conjugate(...)\n",
      " |      Returns self, the complex conjugate of any int.\n",
      " |  \n",
      " |  to_bytes(self, /, length, byteorder, *, signed=False)\n",
      " |      Return an array of bytes representing an integer.\n",
      " |      \n",
      " |      length\n",
      " |        Length of bytes object to use.  An OverflowError is raised if the\n",
      " |        integer is not representable with the given number of bytes.\n",
      " |      byteorder\n",
      " |        The byte order used to represent the integer.  If byteorder is 'big',\n",
      " |        the most significant byte is at the beginning of the byte array.  If\n",
      " |        byteorder is 'little', the most significant byte is at the end of the\n",
      " |        byte array.  To request the native byte order of the host system, use\n",
      " |        `sys.byteorder' as the byte order value.\n",
      " |      signed\n",
      " |        Determines whether two's complement is used to represent the integer.\n",
      " |        If signed is False and a negative integer is given, an OverflowError\n",
      " |        is raised.\n",
      " |  \n",
      " |  ----------------------------------------------------------------------\n",
      " |  Class methods defined here:\n",
      " |  \n",
      " |  from_bytes(bytes, byteorder, *, signed=False) from builtins.type\n",
      " |      Return the integer represented by the given array of bytes.\n",
      " |      \n",
      " |      bytes\n",
      " |        Holds the array of bytes to convert.  The argument must either\n",
      " |        support the buffer protocol or be an iterable object producing bytes.\n",
      " |        Bytes and bytearray are examples of built-in objects that support the\n",
      " |        buffer protocol.\n",
      " |      byteorder\n",
      " |        The byte order used to represent the integer.  If byteorder is 'big',\n",
      " |        the most significant byte is at the beginning of the byte array.  If\n",
      " |        byteorder is 'little', the most significant byte is at the end of the\n",
      " |        byte array.  To request the native byte order of the host system, use\n",
      " |        `sys.byteorder' as the byte order value.\n",
      " |      signed\n",
      " |        Indicates whether two's complement is used to represent the integer.\n",
      " |  \n",
      " |  ----------------------------------------------------------------------\n",
      " |  Static methods defined here:\n",
      " |  \n",
      " |  __new__(*args, **kwargs) from builtins.type\n",
      " |      Create and return a new object.  See help(type) for accurate signature.\n",
      " |  \n",
      " |  ----------------------------------------------------------------------\n",
      " |  Data descriptors defined here:\n",
      " |  \n",
      " |  denominator\n",
      " |      the denominator of a rational number in lowest terms\n",
      " |  \n",
      " |  imag\n",
      " |      the imaginary part of a complex number\n",
      " |  \n",
      " |  numerator\n",
      " |      the numerator of a rational number in lowest terms\n",
      " |  \n",
      " |  real\n",
      " |      the real part of a complex number\n",
      "\n"
     ]
    }
   ],
   "source": [
    "help(int)"
   ]
  },
  {
   "cell_type": "code",
   "execution_count": 4,
   "id": "86f1a0a4",
   "metadata": {},
   "outputs": [
    {
     "data": {
      "text/plain": [
       "26"
      ]
     },
     "execution_count": 4,
     "metadata": {},
     "output_type": "execute_result"
    }
   ],
   "source": [
    "len(\"abcdefghijklmnopqrstuvwxyz\")"
   ]
  },
  {
   "cell_type": "raw",
   "id": "59ddcfb4",
   "metadata": {},
   "source": []
  },
  {
   "cell_type": "code",
   "execution_count": 5,
   "id": "6a670977",
   "metadata": {},
   "outputs": [
    {
     "name": "stdout",
     "output_type": "stream",
     "text": [
      "Help on built-in function len in module builtins:\n",
      "\n",
      "len(obj, /)\n",
      "    Return the number of items in a container.\n",
      "\n"
     ]
    }
   ],
   "source": [
    "help(len)"
   ]
  },
  {
   "cell_type": "code",
   "execution_count": 6,
   "id": "f83e5a2c",
   "metadata": {},
   "outputs": [],
   "source": [
    "word = 'chicken'"
   ]
  },
  {
   "cell_type": "code",
   "execution_count": 7,
   "id": "c2295ce7",
   "metadata": {},
   "outputs": [
    {
     "data": {
      "text/plain": [
       "7"
      ]
     },
     "execution_count": 7,
     "metadata": {},
     "output_type": "execute_result"
    }
   ],
   "source": [
    "len(word)"
   ]
  },
  {
   "cell_type": "code",
   "execution_count": 8,
   "id": "30d0f8c4",
   "metadata": {},
   "outputs": [
    {
     "name": "stdout",
     "output_type": "stream",
     "text": [
      "No Python documentation found for 'chicken'.\n",
      "Use help() to get the interactive help utility.\n",
      "Use help(str) for help on the str class.\n",
      "\n"
     ]
    }
   ],
   "source": [
    "help(word)"
   ]
  },
  {
   "cell_type": "code",
   "execution_count": 9,
   "id": "06a49920",
   "metadata": {},
   "outputs": [
    {
     "name": "stdout",
     "output_type": "stream",
     "text": [
      "what is you first name ??? Ivy\n"
     ]
    }
   ],
   "source": [
    "first_name = input('what is you first name ??? ')"
   ]
  },
  {
   "cell_type": "code",
   "execution_count": 10,
   "id": "82c3a2b1",
   "metadata": {},
   "outputs": [
    {
     "name": "stdout",
     "output_type": "stream",
     "text": [
      "what is you last name ???  Johnsen\n"
     ]
    }
   ],
   "source": [
    "last_name = input('what is you last name ???  ')"
   ]
  },
  {
   "cell_type": "code",
   "execution_count": 11,
   "id": "110053ab",
   "metadata": {},
   "outputs": [],
   "source": [
    "full_name = first_name + \" \" + last_name"
   ]
  },
  {
   "cell_type": "code",
   "execution_count": 12,
   "id": "0ec24f68",
   "metadata": {},
   "outputs": [
    {
     "name": "stdout",
     "output_type": "stream",
     "text": [
      "Hey there Ivy Johnsen\n"
     ]
    }
   ],
   "source": [
    "print(\"Hey there \" + full_name )"
   ]
  },
  {
   "cell_type": "code",
   "execution_count": 13,
   "id": "5f86c1fc",
   "metadata": {},
   "outputs": [
    {
     "data": {
      "text/plain": [
       "'Johnsen'"
      ]
     },
     "execution_count": 13,
     "metadata": {},
     "output_type": "execute_result"
    }
   ],
   "source": [
    "last_name"
   ]
  },
  {
   "cell_type": "code",
   "execution_count": 14,
   "id": "b2dbb008",
   "metadata": {},
   "outputs": [
    {
     "data": {
      "text/plain": [
       "'Ivy'"
      ]
     },
     "execution_count": 14,
     "metadata": {},
     "output_type": "execute_result"
    }
   ],
   "source": [
    "first_name"
   ]
  },
  {
   "cell_type": "code",
   "execution_count": 15,
   "id": "abd53444",
   "metadata": {},
   "outputs": [
    {
     "data": {
      "text/plain": [
       "'Ivy Johnsen'"
      ]
     },
     "execution_count": 15,
     "metadata": {},
     "output_type": "execute_result"
    }
   ],
   "source": [
    "full_name"
   ]
  },
  {
   "cell_type": "code",
   "execution_count": 16,
   "id": "b58050fa",
   "metadata": {},
   "outputs": [],
   "source": [
    "age = '10'"
   ]
  },
  {
   "cell_type": "code",
   "execution_count": 17,
   "id": "b0ed117f",
   "metadata": {},
   "outputs": [
    {
     "data": {
      "text/plain": [
       "10"
      ]
     },
     "execution_count": 17,
     "metadata": {},
     "output_type": "execute_result"
    }
   ],
   "source": [
    "int(age)"
   ]
  },
  {
   "cell_type": "code",
   "execution_count": 18,
   "id": "602a3aac",
   "metadata": {},
   "outputs": [
    {
     "data": {
      "text/plain": [
       "'101010101010101010101010101010101010101010101010101010101010101010101010101010101010101010101010101010101010101010101010'"
      ]
     },
     "execution_count": 18,
     "metadata": {},
     "output_type": "execute_result"
    }
   ],
   "source": [
    "age * 60"
   ]
  },
  {
   "cell_type": "code",
   "execution_count": 19,
   "id": "1f8b6728",
   "metadata": {},
   "outputs": [
    {
     "data": {
      "text/plain": [
       "int"
      ]
     },
     "execution_count": 19,
     "metadata": {},
     "output_type": "execute_result"
    }
   ],
   "source": [
    "type(int(age))"
   ]
  },
  {
   "cell_type": "code",
   "execution_count": 20,
   "id": "cdf0b0a3",
   "metadata": {},
   "outputs": [
    {
     "data": {
      "text/plain": [
       "50"
      ]
     },
     "execution_count": 20,
     "metadata": {},
     "output_type": "execute_result"
    }
   ],
   "source": [
    "int(age) * 5"
   ]
  },
  {
   "cell_type": "code",
   "execution_count": 21,
   "id": "24429546",
   "metadata": {},
   "outputs": [
    {
     "name": "stdout",
     "output_type": "stream",
     "text": [
      "How old are you( in years) ? 18\n"
     ]
    }
   ],
   "source": [
    "age = input(\"How old are you( in years) ? \")"
   ]
  },
  {
   "cell_type": "code",
   "execution_count": 22,
   "id": "3a992e13",
   "metadata": {},
   "outputs": [
    {
     "name": "stdout",
     "output_type": "stream",
     "text": [
      "6570.0\n"
     ]
    }
   ],
   "source": [
    "print(float(age) * 365)"
   ]
  },
  {
   "cell_type": "code",
   "execution_count": 23,
   "id": "7710ca18",
   "metadata": {},
   "outputs": [
    {
     "name": "stdout",
     "output_type": "stream",
     "text": [
      "You are 18 yrs old\n"
     ]
    }
   ],
   "source": [
    "print(f\"You are {age} yrs old\")"
   ]
  },
  {
   "cell_type": "code",
   "execution_count": 24,
   "id": "66245b64",
   "metadata": {},
   "outputs": [
    {
     "name": "stdout",
     "output_type": "stream",
     "text": [
      "*******************************************************************************************************************************\n"
     ]
    }
   ],
   "source": [
    "print(\"*\" * 127)"
   ]
  },
  {
   "cell_type": "code",
   "execution_count": 25,
   "id": "edcd8e69",
   "metadata": {},
   "outputs": [],
   "source": [
    "# Shopping Cart Excercise"
   ]
  },
  {
   "cell_type": "code",
   "execution_count": 26,
   "id": "2fb9a64a",
   "metadata": {},
   "outputs": [
    {
     "name": "stdout",
     "output_type": "stream",
     "text": [
      "WELCOME TO THE USELESS STORE\n"
     ]
    }
   ],
   "source": [
    "print(\"WELCOME TO THE USELESS STORE\")"
   ]
  },
  {
   "cell_type": "code",
   "execution_count": 27,
   "id": "80c6567a",
   "metadata": {},
   "outputs": [
    {
     "name": "stdout",
     "output_type": "stream",
     "text": [
      "***************************************\n"
     ]
    }
   ],
   "source": [
    "print('*'* 39)"
   ]
  },
  {
   "cell_type": "code",
   "execution_count": 38,
   "id": "933c35d5",
   "metadata": {},
   "outputs": [
    {
     "name": "stdout",
     "output_type": "stream",
     "text": [
      "What item are you purchasing: milk\n"
     ]
    }
   ],
   "source": [
    "item = input(\"What item are you purchasing: \")"
   ]
  },
  {
   "cell_type": "code",
   "execution_count": 39,
   "id": "d418cb46",
   "metadata": {},
   "outputs": [
    {
     "name": "stdout",
     "output_type": "stream",
     "text": [
      "How expensive is the milk $4\n"
     ]
    }
   ],
   "source": [
    "price = input(f\"How expensive is the {item} \")"
   ]
  },
  {
   "cell_type": "code",
   "execution_count": 40,
   "id": "7ad369c4",
   "metadata": {},
   "outputs": [
    {
     "name": "stdout",
     "output_type": "stream",
     "text": [
      "How many milk are you buying? 7\n"
     ]
    }
   ],
   "source": [
    "quantity = input(f\"How many {item} are you buying? \" )"
   ]
  },
  {
   "cell_type": "code",
   "execution_count": 41,
   "id": "41be7e5d",
   "metadata": {
    "scrolled": true
   },
   "outputs": [
    {
     "name": "stdout",
     "output_type": "stream",
     "text": [
      "added 7 milk(s) to shopping cart!\n"
     ]
    }
   ],
   "source": [
    "print(f\"added {quantity} {item}(s) to shopping cart!\")"
   ]
  },
  {
   "cell_type": "code",
   "execution_count": 42,
   "id": "1e176306",
   "metadata": {},
   "outputs": [],
   "source": [
    "# We are going to learn string methods."
   ]
  },
  {
   "cell_type": "code",
   "execution_count": 43,
   "id": "81d9739f",
   "metadata": {},
   "outputs": [],
   "source": [
    "# We are going to start of with capitilization methods"
   ]
  },
  {
   "cell_type": "code",
   "execution_count": 48,
   "id": "446632cd",
   "metadata": {},
   "outputs": [],
   "source": [
    "msg = \"cotton candy\""
   ]
  },
  {
   "cell_type": "code",
   "execution_count": 51,
   "id": "5f7525e4",
   "metadata": {},
   "outputs": [
    {
     "data": {
      "text/plain": [
       "'Cotton candy'"
      ]
     },
     "execution_count": 51,
     "metadata": {},
     "output_type": "execute_result"
    }
   ],
   "source": [
    "msg.capitalize() # This capitalize's the first Letter"
   ]
  },
  {
   "cell_type": "code",
   "execution_count": 52,
   "id": "d1bb2c83",
   "metadata": {},
   "outputs": [
    {
     "data": {
      "text/plain": [
       "'HELLO'"
      ]
     },
     "execution_count": 52,
     "metadata": {},
     "output_type": "execute_result"
    }
   ],
   "source": [
    "\"Hello\".upper()"
   ]
  },
  {
   "cell_type": "code",
   "execution_count": 54,
   "id": "fd89a711",
   "metadata": {},
   "outputs": [
    {
     "data": {
      "text/plain": [
       "'bye'"
      ]
     },
     "execution_count": 54,
     "metadata": {},
     "output_type": "execute_result"
    }
   ],
   "source": [
    "\"BYE\".lower()"
   ]
  },
  {
   "cell_type": "code",
   "execution_count": 55,
   "id": "0727a7e4",
   "metadata": {},
   "outputs": [],
   "source": [
    "first_name = \"JimMy\""
   ]
  },
  {
   "cell_type": "code",
   "execution_count": 56,
   "id": "8ba415a1",
   "metadata": {},
   "outputs": [
    {
     "data": {
      "text/plain": [
       "'jimmy'"
      ]
     },
     "execution_count": 56,
     "metadata": {},
     "output_type": "execute_result"
    }
   ],
   "source": [
    "first_name.lower()"
   ]
  },
  {
   "cell_type": "code",
   "execution_count": 57,
   "id": "af41bf1a",
   "metadata": {},
   "outputs": [
    {
     "data": {
      "text/plain": [
       "'Angela'"
      ]
     },
     "execution_count": 57,
     "metadata": {},
     "output_type": "execute_result"
    }
   ],
   "source": [
    "\"AngElA\".capitalize()"
   ]
  },
  {
   "cell_type": "code",
   "execution_count": 58,
   "id": "0454fe1f",
   "metadata": {},
   "outputs": [],
   "source": [
    "race = \"30 kilometres, 20 kilometres, 10 kilometres\""
   ]
  },
  {
   "cell_type": "code",
   "execution_count": 59,
   "id": "4877cde3",
   "metadata": {},
   "outputs": [
    {
     "data": {
      "text/plain": [
       "'30 km, 20 km, 10 km'"
      ]
     },
     "execution_count": 59,
     "metadata": {},
     "output_type": "execute_result"
    }
   ],
   "source": [
    "race.replace(\"kilometres\",\"km\")"
   ]
  },
  {
   "cell_type": "code",
   "execution_count": 61,
   "id": "d4e351f9",
   "metadata": {},
   "outputs": [
    {
     "data": {
      "text/plain": [
       "'30 , 20 , 10 '"
      ]
     },
     "execution_count": 61,
     "metadata": {},
     "output_type": "execute_result"
    }
   ],
   "source": [
    "race.replace(\"kilometres\",\"\")"
   ]
  },
  {
   "cell_type": "code",
   "execution_count": 64,
   "id": "51f927e2",
   "metadata": {},
   "outputs": [],
   "source": [
    "name = \"Ainigieilia\""
   ]
  },
  {
   "cell_type": "code",
   "execution_count": 72,
   "id": "c5b59fc8",
   "metadata": {},
   "outputs": [
    {
     "data": {
      "text/plain": [
       "'Angeilia'"
      ]
     },
     "execution_count": 72,
     "metadata": {},
     "output_type": "execute_result"
    }
   ],
   "source": [
    "name.replace(\"i\",\"\",3)"
   ]
  },
  {
   "cell_type": "code",
   "execution_count": 80,
   "id": "d25c8f7c",
   "metadata": {},
   "outputs": [
    {
     "data": {
      "text/plain": [
       "1"
      ]
     },
     "execution_count": 80,
     "metadata": {},
     "output_type": "execute_result"
    }
   ],
   "source": [
    "name.find('i')"
   ]
  },
  {
   "cell_type": "code",
   "execution_count": 81,
   "id": "0563b181",
   "metadata": {},
   "outputs": [
    {
     "data": {
      "text/plain": [
       "3"
      ]
     },
     "execution_count": 81,
     "metadata": {},
     "output_type": "execute_result"
    }
   ],
   "source": [
    "name.find('i',2)"
   ]
  },
  {
   "cell_type": "code",
   "execution_count": 84,
   "id": "f82e29e9",
   "metadata": {},
   "outputs": [],
   "source": [
    "email = \" angelar@gmail.com \""
   ]
  },
  {
   "cell_type": "code",
   "execution_count": 85,
   "id": "dfc757ed",
   "metadata": {},
   "outputs": [
    {
     "data": {
      "text/plain": [
       "'angelar@gmail.com'"
      ]
     },
     "execution_count": 85,
     "metadata": {},
     "output_type": "execute_result"
    }
   ],
   "source": [
    "email.strip()"
   ]
  },
  {
   "cell_type": "code",
   "execution_count": 86,
   "id": "8804110a",
   "metadata": {},
   "outputs": [],
   "source": [
    "stripped = email.strip()"
   ]
  },
  {
   "cell_type": "code",
   "execution_count": 87,
   "id": "caf05255",
   "metadata": {},
   "outputs": [
    {
     "data": {
      "text/plain": [
       "'angelar@gmail.com'"
      ]
     },
     "execution_count": 87,
     "metadata": {},
     "output_type": "execute_result"
    }
   ],
   "source": [
    "stripped.lower()"
   ]
  },
  {
   "cell_type": "code",
   "execution_count": 88,
   "id": "fa3c1af9",
   "metadata": {},
   "outputs": [],
   "source": [
    "clean_email = stripped.lower()"
   ]
  },
  {
   "cell_type": "code",
   "execution_count": 89,
   "id": "4fea1ace",
   "metadata": {},
   "outputs": [
    {
     "data": {
      "text/plain": [
       "'angelar@gmail.com'"
      ]
     },
     "execution_count": 89,
     "metadata": {},
     "output_type": "execute_result"
    }
   ],
   "source": [
    "clean_email"
   ]
  },
  {
   "cell_type": "code",
   "execution_count": 90,
   "id": "5871c4e0",
   "metadata": {},
   "outputs": [
    {
     "data": {
      "text/plain": [
       "' angelar@gmail.com '"
      ]
     },
     "execution_count": 90,
     "metadata": {},
     "output_type": "execute_result"
    }
   ],
   "source": [
    "email"
   ]
  },
  {
   "cell_type": "code",
   "execution_count": 91,
   "id": "b5b09867",
   "metadata": {},
   "outputs": [
    {
     "data": {
      "text/plain": [
       "'angelar@gmail.com'"
      ]
     },
     "execution_count": 91,
     "metadata": {},
     "output_type": "execute_result"
    }
   ],
   "source": [
    "email.strip().lower()"
   ]
  },
  {
   "cell_type": "code",
   "execution_count": null,
   "id": "6cb6a17e",
   "metadata": {},
   "outputs": [],
   "source": []
  }
 ],
 "metadata": {
  "kernelspec": {
   "display_name": "Python 3",
   "language": "python",
   "name": "python3"
  },
  "language_info": {
   "codemirror_mode": {
    "name": "ipython",
    "version": 3
   },
   "file_extension": ".py",
   "mimetype": "text/x-python",
   "name": "python",
   "nbconvert_exporter": "python",
   "pygments_lexer": "ipython3",
   "version": "3.8.8"
  }
 },
 "nbformat": 4,
 "nbformat_minor": 5
}
