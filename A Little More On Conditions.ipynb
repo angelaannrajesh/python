{
 "cells": [
  {
   "cell_type": "code",
   "execution_count": null,
   "id": "b946f1e7",
   "metadata": {},
   "outputs": [],
   "source": [
    "# A tanget on indentation"
   ]
  },
  {
   "cell_type": "code",
   "execution_count": null,
   "id": "6277639b",
   "metadata": {},
   "outputs": [],
   "source": [
    "# This is just a test\n",
    "mood = input(\"What mood are you today: \")\n",
    "if mood == \"happy\":\n",
    "    print(\"your day must have been full of sunshines !!! \")\n",
    "elif mood == \"bad\":\n",
    "    print(\"you must have seen thunder clouds today\")\n",
    "else:\n",
    "    print(\"Oh ok, well hopefully tommorrow will be like it or better\")"
   ]
  },
  {
   "cell_type": "code",
   "execution_count": null,
   "id": "1164f895",
   "metadata": {},
   "outputs": [],
   "source": [
    "day = input(\"What day is it today? \")\n",
    "if day == \"Monday\":\n",
    "    print(\"You have Art Class And Violin Class Today.\")\n",
    "if day == \"Tuesday\":\n",
    "    print(\"Remember to bring your togs and goggles, you have Swimming Today\")\n",
    "if day == \"Wednesday\":\n",
    "    print(\"You have to go to the grocery shop to buy some food.\")\n",
    "if day == \"Thursday\":\n",
    "    print(\"You have to stay home and take care of your sister.\")\n",
    "if day == \"Friday\":\n",
    "    print(\"You have a History Exam today.\")\n",
    "if day == \"Saturday\":\n",
    "    print(\"You have to prepare for next months exam, which is in 28 days,  you have 4 weeks to study\")\n",
    "if day == (\"Sunday\"):\n",
    "    print(\"You have a whole day to yourself, you can watch a movie.\")"
   ]
  },
  {
   "cell_type": "code",
   "execution_count": null,
   "id": "f2e11a44",
   "metadata": {},
   "outputs": [],
   "source": [
    "print(\"Colour Personality Quiz\")\n",
    "print(\"Keep the first letter in capital e.g Pink not pink\")\n",
    "color = input(\"What is you favourite color? \")\n",
    "if color == \"Red\":\n",
    "    print(\"Red shows that you're outgoing and assertive. You feel deep sympathy for fellow human beings\")\n",
    "elif color == \"Orange\":\n",
    "    print(\"Those with Orange color personality strengths tend to be witty, spontaneous, generous, optimistic, eager and bold.\")\n",
    "if color == \"Yellow\":\n",
    "    print(\"Yellow as a favorite color is said to represent happiness and a love of learning\")\n",
    "elif color == \"Green\":\n",
    "    print(\"People who are drawn to green are generally natural peacemakers.\")\n",
    "if color == \"Blue\":\n",
    "    print(\"Those with Blue color personality strengths tend to be enthusiastic, sympathetic, communicative, compassionate, idealistic, sincere and imaginative.\")\n",
    "elif color == \"Purple\":\n",
    "    print(\"Lovers of purple are said to be a good judge of character, and a visionary with a great need to participate in humanitarian issues.\")\n",
    "if color == \"Pink\":\n",
    "    print(\"Pink as a favorite color is said to represent a loving, kind, and sensitive individual, often with a strong nurturing side. \")"
   ]
  },
  {
   "cell_type": "code",
   "execution_count": null,
   "id": "248fc3bc",
   "metadata": {},
   "outputs": [],
   "source": [
    "print(\"Make sure to write the first letter in capital e.g Cars not cars\")\n",
    "print(\"Basic Question\")\n",
    "question1 = input(\"What color is the sun: \")\n",
    "if question1 == \"Yellow\":\n",
    "    print(\"Correct\")\n",
    "else:\n",
    "    print(\"Wrong\")\n",
    "question2 = input(\"What is 12 x 5: \")\n",
    "if question2 == \"60\":\n",
    "    print(\"Correct\")\n",
    "else:\n",
    "    print(\"Wrong\")\n",
    "question3 = input(\"What year is this: \")\n",
    "if question3 == \"2022\":\n",
    "    print(\"Correct\")\n",
    "else:\n",
    "    print(\"Wrong\")"
   ]
  },
  {
   "cell_type": "code",
   "execution_count": null,
   "id": "e4f8c94d",
   "metadata": {},
   "outputs": [],
   "source": [
    "a = input(\"Would you like to know the weather today: \")\n",
    "if a == \"Yes\":\n",
    "    b = input(\"Ok, Please enter the day: \")\n",
    "else:\n",
    "    print(\"Ok, sorry to disturb.\")\n",
    "if b == \"Monday\":\n",
    "    print(\"It is going to be a sunny day\")\n",
    "elif b == \"Tuesday\":\n",
    "    print(\"It will be full of shines\")\n",
    "if b == \"Wednesday\":\n",
    "    print(\"I will be a bit cloudy, but there will be no rain\")\n",
    "elif b == \"Thursday\":\n",
    "    print(\"It will be rainy today, remember to bring your raincoat or umbrella\")\n",
    "if b == \"Friday\":\n",
    "    print(\"It is going to be rainy today , and there may be thunder\")\n",
    "elif b == \"Saturday\":\n",
    "    print(\"It will be a bit windy but there is no rain and thunder\")\n",
    "if b == \"Sunday\":\n",
    "    print(\"It will be a Sunny day today\")"
   ]
  },
  {
   "cell_type": "code",
   "execution_count": null,
   "id": "2d136285",
   "metadata": {},
   "outputs": [],
   "source": [
    "print(\"We are please to offer you a ANZ Insurance Policy\")\n",
    "input(\"Please provide your pin code\")"
   ]
  },
  {
   "cell_type": "code",
   "execution_count": null,
   "id": "313deb37",
   "metadata": {},
   "outputs": [],
   "source": [
    "a = input(\"How old are you: \")\n",
    "if a >= 10:\n",
    "    print(\"You can come in\")"
   ]
  },
  {
   "cell_type": "code",
   "execution_count": 6,
   "id": "29750815",
   "metadata": {},
   "outputs": [
    {
     "name": "stdout",
     "output_type": "stream",
     "text": [
      "What is your height(in inches): 74\n",
      "What is your weight(in lbs): 130\n",
      "your bmi 16.68918918918919 \n"
     ]
    }
   ],
   "source": [
    "a = float(input(\"What is your height(in inches): \"))\n",
    "b = float(input(\"What is your weight(in lbs): \"))\n",
    "bmi = (b * 703) / (a * a)\n",
    "print(f\"your bmi {bmi} \")\n",
    "if bmi < 16.0 :\n",
    "    print(\"You are Severely Underweight\")\n",
    "elif bmi > 16.0 and b < 18.4:\n",
    "    print(\"You are Underweight\")\n",
    "elif bmi > 18.5 and b < 24.9:\n",
    "    print(\"You are Normal\")\n",
    "    "
   ]
  },
  {
   "cell_type": "code",
   "execution_count": null,
   "id": "59fa0be9",
   "metadata": {},
   "outputs": [],
   "source": [
    "< 16.0    Severely Underweight \n",
    "16.0 - 18.4   Underweight\n",
    "18.5 - 24.9   Normal\n",
    "25.0 - 29.9   Overweight\n",
    "30.0 - 34.9   Moderately Obese\n",
    "35.0 - 39.9   Severely Obese\n",
    "> 39.9   Morbidly Obese"
   ]
  },
  {
   "cell_type": "code",
   "execution_count": null,
   "id": "0ccaf9bd",
   "metadata": {},
   "outputs": [],
   "source": []
  },
  {
   "cell_type": "code",
   "execution_count": null,
   "id": "96f7d43d",
   "metadata": {},
   "outputs": [],
   "source": [
    "5 < 6"
   ]
  },
  {
   "cell_type": "code",
   "execution_count": null,
   "id": "35f6e4ae",
   "metadata": {},
   "outputs": [],
   "source": [
    "10 > 5"
   ]
  },
  {
   "cell_type": "code",
   "execution_count": null,
   "id": "cdd67cc1",
   "metadata": {},
   "outputs": [],
   "source": []
  }
 ],
 "metadata": {
  "kernelspec": {
   "display_name": "Python 3",
   "language": "python",
   "name": "python3"
  },
  "language_info": {
   "codemirror_mode": {
    "name": "ipython",
    "version": 3
   },
   "file_extension": ".py",
   "mimetype": "text/x-python",
   "name": "python",
   "nbconvert_exporter": "python",
   "pygments_lexer": "ipython3",
   "version": "3.8.8"
  }
 },
 "nbformat": 4,
 "nbformat_minor": 5
}
