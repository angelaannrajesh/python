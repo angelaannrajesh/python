{
 "cells": [
  {
   "cell_type": "code",
   "execution_count": 1,
   "id": "42cb2efc",
   "metadata": {},
   "outputs": [
    {
     "data": {
      "text/plain": [
       "'hello, my name is Angela'"
      ]
     },
     "execution_count": 1,
     "metadata": {},
     "output_type": "execute_result"
    }
   ],
   "source": [
    "\"hello, my name is Angela\""
   ]
  },
  {
   "cell_type": "code",
   "execution_count": 2,
   "id": "1db308b6",
   "metadata": {},
   "outputs": [
    {
     "data": {
      "text/plain": [
       "int"
      ]
     },
     "execution_count": 2,
     "metadata": {},
     "output_type": "execute_result"
    }
   ],
   "source": [
    "type(2)"
   ]
  },
  {
   "cell_type": "code",
   "execution_count": 3,
   "id": "7a906f2c",
   "metadata": {},
   "outputs": [
    {
     "data": {
      "text/plain": [
       "str"
      ]
     },
     "execution_count": 3,
     "metadata": {},
     "output_type": "execute_result"
    }
   ],
   "source": [
    "type(\"Hello\")"
   ]
  },
  {
   "cell_type": "code",
   "execution_count": 4,
   "id": "416fd485",
   "metadata": {},
   "outputs": [
    {
     "data": {
      "text/plain": [
       "int"
      ]
     },
     "execution_count": 4,
     "metadata": {},
     "output_type": "execute_result"
    }
   ],
   "source": [
    "type(9)"
   ]
  },
  {
   "cell_type": "code",
   "execution_count": 5,
   "id": "a6b474a8",
   "metadata": {},
   "outputs": [
    {
     "data": {
      "text/plain": [
       "str"
      ]
     },
     "execution_count": 5,
     "metadata": {},
     "output_type": "execute_result"
    }
   ],
   "source": [
    "type(\"9\")"
   ]
  },
  {
   "cell_type": "code",
   "execution_count": 6,
   "id": "a7acc96d",
   "metadata": {},
   "outputs": [],
   "source": [
    "age = 10"
   ]
  },
  {
   "cell_type": "code",
   "execution_count": 7,
   "id": "f3072bb7",
   "metadata": {},
   "outputs": [],
   "source": [
    "age = \"ten\""
   ]
  },
  {
   "cell_type": "code",
   "execution_count": 8,
   "id": "7db6b11b",
   "metadata": {},
   "outputs": [
    {
     "data": {
      "text/plain": [
       "'ten'"
      ]
     },
     "execution_count": 8,
     "metadata": {},
     "output_type": "execute_result"
    }
   ],
   "source": [
    "age"
   ]
  },
  {
   "cell_type": "code",
   "execution_count": 9,
   "id": "27716c23",
   "metadata": {},
   "outputs": [],
   "source": [
    "email = \"angelar@gmail.com\""
   ]
  },
  {
   "cell_type": "code",
   "execution_count": 10,
   "id": "3e5f3427",
   "metadata": {},
   "outputs": [
    {
     "name": "stdout",
     "output_type": "stream",
     "text": [
      "angelar@gmail.com\n"
     ]
    }
   ],
   "source": [
    "print(email)"
   ]
  },
  {
   "cell_type": "code",
   "execution_count": 11,
   "id": "e5252e1a",
   "metadata": {},
   "outputs": [
    {
     "data": {
      "text/plain": [
       "str"
      ]
     },
     "execution_count": 11,
     "metadata": {},
     "output_type": "execute_result"
    }
   ],
   "source": [
    "type(email)"
   ]
  },
  {
   "cell_type": "code",
   "execution_count": 12,
   "id": "ac5acd59",
   "metadata": {},
   "outputs": [
    {
     "data": {
      "text/plain": [
       "5"
      ]
     },
     "execution_count": 12,
     "metadata": {},
     "output_type": "execute_result"
    }
   ],
   "source": [
    "2 + 3"
   ]
  },
  {
   "cell_type": "code",
   "execution_count": 13,
   "id": "de393688",
   "metadata": {},
   "outputs": [
    {
     "data": {
      "text/plain": [
       "'2 + 3'"
      ]
     },
     "execution_count": 13,
     "metadata": {},
     "output_type": "execute_result"
    }
   ],
   "source": [
    "\"2 + 3\""
   ]
  },
  {
   "cell_type": "code",
   "execution_count": 16,
   "id": "8efe8745",
   "metadata": {},
   "outputs": [
    {
     "data": {
      "text/plain": [
       "'Hi Everyone'"
      ]
     },
     "execution_count": 16,
     "metadata": {},
     "output_type": "execute_result"
    }
   ],
   "source": [
    "\"Hi\" + \" \" + \"Everyone\""
   ]
  },
  {
   "cell_type": "code",
   "execution_count": 19,
   "id": "7f2c1d62",
   "metadata": {},
   "outputs": [
    {
     "data": {
      "text/plain": [
       "'HIEveryone'"
      ]
     },
     "execution_count": 19,
     "metadata": {},
     "output_type": "execute_result"
    }
   ],
   "source": [
    "\"HI\"+\"Everyone\""
   ]
  },
  {
   "cell_type": "code",
   "execution_count": 20,
   "id": "eb4b263d",
   "metadata": {},
   "outputs": [],
   "source": [
    "first_name = \"Angela\""
   ]
  },
  {
   "cell_type": "code",
   "execution_count": 25,
   "id": "ab1fd581",
   "metadata": {},
   "outputs": [],
   "source": [
    "last_name = \"Rajesh\""
   ]
  },
  {
   "cell_type": "markdown",
   "id": "949cd77c",
   "metadata": {},
   "source": [
    "#Trying not to make it too long"
   ]
  },
  {
   "cell_type": "code",
   "execution_count": 23,
   "id": "216bd293",
   "metadata": {},
   "outputs": [],
   "source": [
    "full_name = first_name + \" \" + last_name"
   ]
  },
  {
   "cell_type": "code",
   "execution_count": 24,
   "id": "2276aed0",
   "metadata": {},
   "outputs": [
    {
     "data": {
      "text/plain": [
       "'Angela Rajesh'"
      ]
     },
     "execution_count": 24,
     "metadata": {},
     "output_type": "execute_result"
    }
   ],
   "source": [
    "full_name"
   ]
  },
  {
   "cell_type": "code",
   "execution_count": 26,
   "id": "972c9dcc",
   "metadata": {},
   "outputs": [
    {
     "data": {
      "text/plain": [
       "'Angela Rajesh'"
      ]
     },
     "execution_count": 26,
     "metadata": {},
     "output_type": "execute_result"
    }
   ],
   "source": [
    "first_name + \" \" + last_name"
   ]
  },
  {
   "cell_type": "code",
   "execution_count": 30,
   "id": "c5ed88eb",
   "metadata": {},
   "outputs": [
    {
     "data": {
      "text/plain": [
       "'45'"
      ]
     },
     "execution_count": 30,
     "metadata": {},
     "output_type": "execute_result"
    }
   ],
   "source": [
    "\"4\" +\"5\""
   ]
  },
  {
   "cell_type": "code",
   "execution_count": 31,
   "id": "73237ebe",
   "metadata": {},
   "outputs": [
    {
     "data": {
      "text/plain": [
       "9"
      ]
     },
     "execution_count": 31,
     "metadata": {},
     "output_type": "execute_result"
    }
   ],
   "source": [
    "4 + 5"
   ]
  },
  {
   "cell_type": "code",
   "execution_count": 34,
   "id": "af7eefe4",
   "metadata": {},
   "outputs": [
    {
     "data": {
      "text/plain": [
       "20"
      ]
     },
     "execution_count": 34,
     "metadata": {},
     "output_type": "execute_result"
    }
   ],
   "source": [
    "5 * 4"
   ]
  },
  {
   "cell_type": "code",
   "execution_count": 35,
   "id": "15b5e23e",
   "metadata": {},
   "outputs": [
    {
     "data": {
      "text/plain": [
       "'hahahahaha'"
      ]
     },
     "execution_count": 35,
     "metadata": {},
     "output_type": "execute_result"
    }
   ],
   "source": [
    "5 * \"ha\""
   ]
  },
  {
   "cell_type": "code",
   "execution_count": 36,
   "id": "99b68a1a",
   "metadata": {},
   "outputs": [],
   "source": [
    "#String Indexing"
   ]
  },
  {
   "cell_type": "code",
   "execution_count": 37,
   "id": "f94cf182",
   "metadata": {},
   "outputs": [],
   "source": [
    "a = \"Pneumonoultramicroscopicsilicovolcanoconiosis\""
   ]
  },
  {
   "cell_type": "code",
   "execution_count": 39,
   "id": "e493fba1",
   "metadata": {},
   "outputs": [
    {
     "data": {
      "text/plain": [
       "'n'"
      ]
     },
     "execution_count": 39,
     "metadata": {},
     "output_type": "execute_result"
    }
   ],
   "source": [
    "a[39] #Spaces also count and it starts from 0 so 0 = P"
   ]
  },
  {
   "cell_type": "code",
   "execution_count": 40,
   "id": "dfa09b38",
   "metadata": {},
   "outputs": [],
   "source": [
    "a = \"Actor\""
   ]
  },
  {
   "cell_type": "markdown",
   "id": "43a16fe9",
   "metadata": {},
   "source": [
    "a[4]"
   ]
  },
  {
   "cell_type": "code",
   "execution_count": 43,
   "id": "f0fd19d6",
   "metadata": {},
   "outputs": [
    {
     "data": {
      "text/plain": [
       "'c'"
      ]
     },
     "execution_count": 43,
     "metadata": {},
     "output_type": "execute_result"
    }
   ],
   "source": [
    "a[-4]"
   ]
  },
  {
   "cell_type": "code",
   "execution_count": 44,
   "id": "6c5cb761",
   "metadata": {},
   "outputs": [],
   "source": [
    "None"
   ]
  },
  {
   "cell_type": "code",
   "execution_count": 45,
   "id": "b8572f1a",
   "metadata": {},
   "outputs": [
    {
     "data": {
      "text/plain": [
       "NoneType"
      ]
     },
     "execution_count": 45,
     "metadata": {},
     "output_type": "execute_result"
    }
   ],
   "source": [
    "type(None)"
   ]
  },
  {
   "cell_type": "code",
   "execution_count": 47,
   "id": "99254e69",
   "metadata": {},
   "outputs": [
    {
     "data": {
      "text/plain": [
       "int"
      ]
     },
     "execution_count": 47,
     "metadata": {},
     "output_type": "execute_result"
    }
   ],
   "source": [
    "type(2)"
   ]
  },
  {
   "cell_type": "code",
   "execution_count": 48,
   "id": "b7b26f87",
   "metadata": {},
   "outputs": [
    {
     "data": {
      "text/plain": [
       "float"
      ]
     },
     "execution_count": 48,
     "metadata": {},
     "output_type": "execute_result"
    }
   ],
   "source": [
    "type(2.3)"
   ]
  },
  {
   "cell_type": "code",
   "execution_count": 49,
   "id": "aebf924f",
   "metadata": {},
   "outputs": [
    {
     "data": {
      "text/plain": [
       "str"
      ]
     },
     "execution_count": 49,
     "metadata": {},
     "output_type": "execute_result"
    }
   ],
   "source": [
    "type(\"hello\")"
   ]
  },
  {
   "cell_type": "code",
   "execution_count": 50,
   "id": "4b127ad8",
   "metadata": {},
   "outputs": [],
   "source": [
    "a = \"smatistics\""
   ]
  },
  {
   "cell_type": "code",
   "execution_count": 53,
   "id": "38a318f0",
   "metadata": {},
   "outputs": [
    {
     "data": {
      "text/plain": [
       "'smatistics'"
      ]
     },
     "execution_count": 53,
     "metadata": {},
     "output_type": "execute_result"
    }
   ],
   "source": [
    "a"
   ]
  },
  {
   "cell_type": "code",
   "execution_count": 60,
   "id": "4d72db02",
   "metadata": {},
   "outputs": [
    {
     "data": {
      "text/plain": [
       "'mat'"
      ]
     },
     "execution_count": 60,
     "metadata": {},
     "output_type": "execute_result"
    }
   ],
   "source": [
    "a[1:4]"
   ]
  },
  {
   "cell_type": "code",
   "execution_count": 62,
   "id": "323dc85d",
   "metadata": {},
   "outputs": [
    {
     "data": {
      "text/plain": [
       "'mtsi'"
      ]
     },
     "execution_count": 62,
     "metadata": {},
     "output_type": "execute_result"
    }
   ],
   "source": [
    "a[1:8:2]"
   ]
  },
  {
   "cell_type": "code",
   "execution_count": 64,
   "id": "b42a79b9",
   "metadata": {},
   "outputs": [],
   "source": [
    "av = \"7968574878687567587\""
   ]
  },
  {
   "cell_type": "code",
   "execution_count": 65,
   "id": "a56ba3c2",
   "metadata": {},
   "outputs": [],
   "source": [
    "bv = \"8938792898739232792\""
   ]
  },
  {
   "cell_type": "code",
   "execution_count": 66,
   "id": "e8f7a12a",
   "metadata": {},
   "outputs": [
    {
     "data": {
      "text/plain": [
       "'68574'"
      ]
     },
     "execution_count": 66,
     "metadata": {},
     "output_type": "execute_result"
    }
   ],
   "source": [
    "av[2:7]"
   ]
  },
  {
   "cell_type": "code",
   "execution_count": 69,
   "id": "dd41ef2b",
   "metadata": {},
   "outputs": [],
   "source": [
    "a = \"I'm \\n Angela\""
   ]
  },
  {
   "cell_type": "code",
   "execution_count": 71,
   "id": "db753d91",
   "metadata": {},
   "outputs": [
    {
     "name": "stdout",
     "output_type": "stream",
     "text": [
      "I'm \n",
      " Angela\n"
     ]
    }
   ],
   "source": [
    "print(a)"
   ]
  },
  {
   "cell_type": "code",
   "execution_count": 79,
   "id": "81932a2e",
   "metadata": {},
   "outputs": [],
   "source": [
    "a = \"I'm\\nAngela\" # Newline \\n"
   ]
  },
  {
   "cell_type": "code",
   "execution_count": 80,
   "id": "ccdb9486",
   "metadata": {},
   "outputs": [
    {
     "name": "stdout",
     "output_type": "stream",
     "text": [
      "I'm\n",
      "Angela\n"
     ]
    }
   ],
   "source": [
    "print(a)"
   ]
  },
  {
   "cell_type": "code",
   "execution_count": 81,
   "id": "e237d07f",
   "metadata": {},
   "outputs": [
    {
     "name": "stdout",
     "output_type": "stream",
     "text": [
      "I'm \t Angela\n"
     ]
    }
   ],
   "source": [
    "print(\"I'm \\t Angela\") # Tab \\t"
   ]
  },
  {
   "cell_type": "code",
   "execution_count": 77,
   "id": "925c2982",
   "metadata": {},
   "outputs": [
    {
     "name": "stdout",
     "output_type": "stream",
     "text": [
      "she said 'lol'\n"
     ]
    }
   ],
   "source": [
    "print(\"she said \\'lol\\'\") # Double Quote \\\""
   ]
  },
  {
   "cell_type": "code",
   "execution_count": 78,
   "id": "0c652b76",
   "metadata": {},
   "outputs": [
    {
     "name": "stdout",
     "output_type": "stream",
     "text": [
      "she said 'lol'\n"
     ]
    }
   ],
   "source": [
    "print(\"she said 'lol'\")"
   ]
  },
  {
   "cell_type": "code",
   "execution_count": 88,
   "id": "329f41a6",
   "metadata": {},
   "outputs": [
    {
     "name": "stdout",
     "output_type": "stream",
     "text": [
      "\\\n"
     ]
    }
   ],
   "source": [
    "print(\"\\\\\") #Backslash"
   ]
  },
  {
   "cell_type": "code",
   "execution_count": 89,
   "id": "61b2f443",
   "metadata": {},
   "outputs": [
    {
     "name": "stdout",
     "output_type": "stream",
     "text": [
      "\"\"\n"
     ]
    }
   ],
   "source": [
    "print('\"\"')"
   ]
  },
  {
   "cell_type": "code",
   "execution_count": 90,
   "id": "655e4c06",
   "metadata": {},
   "outputs": [
    {
     "name": "stdout",
     "output_type": "stream",
     "text": [
      "abc\"\"cde\n"
     ]
    }
   ],
   "source": [
    "print('abc\"\"cde')"
   ]
  },
  {
   "cell_type": "code",
   "execution_count": 92,
   "id": "a0968b9b",
   "metadata": {},
   "outputs": [
    {
     "name": "stdout",
     "output_type": "stream",
     "text": [
      "/\n"
     ]
    }
   ],
   "source": [
    "print('/')"
   ]
  },
  {
   "cell_type": "code",
   "execution_count": 130,
   "id": "ad75d5ee",
   "metadata": {},
   "outputs": [],
   "source": [
    "a = 10"
   ]
  },
  {
   "cell_type": "code",
   "execution_count": 132,
   "id": "7e6d346b",
   "metadata": {},
   "outputs": [],
   "source": [
    "c = a + a"
   ]
  },
  {
   "cell_type": "code",
   "execution_count": 138,
   "id": "1b800a49",
   "metadata": {},
   "outputs": [],
   "source": [
    "d = c - a"
   ]
  },
  {
   "cell_type": "code",
   "execution_count": 141,
   "id": "95978aea",
   "metadata": {},
   "outputs": [],
   "source": [
    "e = d * 2"
   ]
  },
  {
   "cell_type": "code",
   "execution_count": 142,
   "id": "00b2a9e1",
   "metadata": {},
   "outputs": [],
   "source": [
    "f = e ** 2"
   ]
  },
  {
   "cell_type": "code",
   "execution_count": null,
   "id": "f0127e48",
   "metadata": {},
   "outputs": [],
   "source": [
    "# Quess the answer then check the answer by scrolling down !\n",
    "\n",
    "\n",
    "\n",
    "\n",
    "\n",
    "\n",
    "\n",
    "\n",
    "\n",
    "\n",
    "\n",
    "\n",
    "\n",
    "\n",
    "\n",
    "\n",
    "\n",
    "\n",
    "\n",
    "\n",
    "\n",
    "\n",
    "\n",
    "\n",
    "\n",
    "\n",
    "\n",
    "# Answer is 400"
   ]
  },
  {
   "cell_type": "code",
   "execution_count": 149,
   "id": "77330c5b",
   "metadata": {},
   "outputs": [
    {
     "name": "stdout",
     "output_type": "stream",
     "text": [
      "I am 10 years old\n"
     ]
    }
   ],
   "source": [
    "print(\"I am \" + \"10 \" + \"years old\")"
   ]
  },
  {
   "cell_type": "code",
   "execution_count": 152,
   "id": "d3d60e15",
   "metadata": {},
   "outputs": [],
   "source": [
    "#Did you guess the answer !"
   ]
  },
  {
   "cell_type": "code",
   "execution_count": 153,
   "id": "e81aa5bc",
   "metadata": {},
   "outputs": [],
   "source": [
    "# I did"
   ]
  },
  {
   "cell_type": "code",
   "execution_count": null,
   "id": "1dea7de9",
   "metadata": {},
   "outputs": [],
   "source": [
    "# Bye"
   ]
  }
 ],
 "metadata": {
  "kernelspec": {
   "display_name": "Python 3",
   "language": "python",
   "name": "python3"
  },
  "language_info": {
   "codemirror_mode": {
    "name": "ipython",
    "version": 3
   },
   "file_extension": ".py",
   "mimetype": "text/x-python",
   "name": "python",
   "nbconvert_exporter": "python",
   "pygments_lexer": "ipython3",
   "version": "3.8.8"
  }
 },
 "nbformat": 4,
 "nbformat_minor": 5
}
