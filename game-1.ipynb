{
 "cells": [
  {
   "cell_type": "code",
   "execution_count": null,
   "id": "809b2a1c",
   "metadata": {},
   "outputs": [],
   "source": [
    "# Silly Introduction Game\n",
    "num1 = input(\"enter a silly word \")\n",
    "num2 = input(\"enter a serious word \")\n",
    "a = input(\"enter one number \")\n",
    "b = input(\"enter a three digit number: \")\n",
    "sally = input(\"enter another 1 digit number that is not 1 or 0\")\n",
    "animals = input(\"enter a fake animal name\")\n",
    "food = input(\"enter your most hated food\")\n",
    "com = a + b\n",
    "sum = num1 + \" \" +\"the\" + \" \" + num2\n",
    "print(\"**************************************************************************\")\n",
    "print(f\"Hi my name is { sum}, I am {com} years old and I have {sally} {animals}'s and my most favourite food is {food}\")\n",
    "print(f\"Well I've got to say {sum} you are very old , and I have never heard of {animals}'s before, but I hate {food}\")"
   ]
  },
  {
   "cell_type": "code",
   "execution_count": null,
   "id": "1d4f72ae",
   "metadata": {},
   "outputs": [
    {
     "name": "stdout",
     "output_type": "stream",
     "text": [
      "enter a number: 34\n"
     ]
    }
   ],
   "source": [
    "# Calculator Game\n",
    "num1 = input(\"enter a number: \")\n",
    "num2 = input(\"enter another number: \")\n",
    "question = input(\"would you like to add , subtract, divide or multiply: \")\n",
    "add = int(num1) + int(num2)\n",
    "sub = int(num1) - int(num2)\n",
    "div = int(num1) / int(num2)\n",
    "mul = int(num1) * int(num2)\n",
    "if question == \"add\":\n",
    "    print(add)\n",
    "elif question == \"subtract\":\n",
    "    print(sub)\n",
    "elif question == \"divide\":\n",
    "    print(div)\n",
    "elif question == \"multiply\":\n",
    "    print(mul)\n",
    "else :\n",
    "    print(\"please answer question with proper spelling and make sure the answer is fully lowercase\")"
   ]
  },
  {
   "cell_type": "code",
   "execution_count": null,
   "id": "e4eeb0ac",
   "metadata": {},
   "outputs": [],
   "source": []
  }
 ],
 "metadata": {
  "kernelspec": {
   "display_name": "Python 3",
   "language": "python",
   "name": "python3"
  },
  "language_info": {
   "codemirror_mode": {
    "name": "ipython",
    "version": 3
   },
   "file_extension": ".py",
   "mimetype": "text/x-python",
   "name": "python",
   "nbconvert_exporter": "python",
   "pygments_lexer": "ipython3",
   "version": "3.8.8"
  }
 },
 "nbformat": 4,
 "nbformat_minor": 5
}
