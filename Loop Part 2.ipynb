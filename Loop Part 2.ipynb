{
 "cells": [
  {
   "cell_type": "code",
   "execution_count": 1,
   "id": "3d53a852",
   "metadata": {},
   "outputs": [
    {
     "name": "stdout",
     "output_type": "stream",
     "text": [
      "s\n",
      "u\n",
      "p\n",
      "e\n",
      "r\n",
      "c\n",
      "a\n",
      "l\n",
      "i\n",
      "f\n",
      "r\n",
      "a\n",
      "g\n",
      "i\n",
      "l\n",
      "i\n",
      "s\n"
     ]
    }
   ],
   "source": [
    "for letters in \"supercalifragilisticexpialidocious\":\n",
    "    if letters == 't':\n",
    "        break\n",
    "    print(letters) "
   ]
  },
  {
   "cell_type": "code",
   "execution_count": 2,
   "id": "f3c640bd",
   "metadata": {},
   "outputs": [
    {
     "name": "stdout",
     "output_type": "stream",
     "text": [
      "what is 1 + 1: no\n",
      "answer it correctly ... what is 1 + 1: I SAID NO\n",
      "answer it correctly ... what is 1 + 1: STOP ANNOYING ME\n",
      "answer it correctly ... what is 1 + 1: ugh fine , I'll tell you\n",
      "answer it correctly ... what is 1 + 1: twooo\n",
      "answer it correctly ... what is 1 + 1: two\n",
      "answer it correctly ... what is 1 + 1: what is wrong with this I wrote  two\n",
      "answer it correctly ... what is 1 + 1: 22\n",
      "answer it correctly ... what is 1 + 1: 222\n",
      "answer it correctly ... what is 1 + 1: 2\n",
      "Thank You \n"
     ]
    }
   ],
   "source": [
    "question = input(\"what is 1 + 1: \")\n",
    "while question != \"2\":\n",
    "    question = input(\"answer it correctly ... what is 1 + 1: \")\n",
    "print(\"Thank You \")"
   ]
  },
  {
   "cell_type": "code",
   "execution_count": 1,
   "id": "929c9fa1",
   "metadata": {},
   "outputs": [
    {
     "name": "stdout",
     "output_type": "stream",
     "text": [
      "say hi: hi\n",
      "thanks for saying hi: your welcome :)\n"
     ]
    }
   ],
   "source": [
    "question = input(\"say hi: \")\n",
    "while True:\n",
    "    if question == \"hi\":\n",
    "        break\n",
    "question = input(\"thanks for saying hi: \")"
   ]
  },
  {
   "cell_type": "code",
   "execution_count": 1,
   "id": "be9a30e0",
   "metadata": {},
   "outputs": [
    {
     "name": "stdout",
     "output_type": "stream",
     "text": [
      "s\n",
      "p\n",
      "r\n",
      "c\n",
      "l\n",
      "f\n",
      "r\n",
      "g\n",
      "l\n",
      "s\n",
      "t\n",
      "c\n",
      "x\n",
      "p\n",
      "l\n",
      "d\n",
      "c\n",
      "s\n"
     ]
    }
   ],
   "source": [
    "for letters in \"supercalifragilisticexpialidocious\":\n",
    "    if letters in 'aeiou':\n",
    "        continue\n",
    "    print(letters) "
   ]
  },
  {
   "cell_type": "code",
   "execution_count": 9,
   "id": "ee9c2615",
   "metadata": {
    "scrolled": true
   },
   "outputs": [
    {
     "name": "stdout",
     "output_type": "stream",
     "text": [
      "1\n",
      "2\n",
      "3\n",
      "4\n",
      "5\n",
      "6\n",
      "7\n",
      "8\n",
      "9\n",
      "10\n",
      "\t 1\n",
      "\t 2\n",
      "\t 3\n",
      "\t 4\n",
      "\t 5\n",
      "\t 6\n",
      "\t 7\n",
      "\t 8\n",
      "\t 9\n",
      "\t 10\n"
     ]
    }
   ],
   "source": [
    "for outside in range(1,11):\n",
    "    print(outside)\n",
    "for inside in range(1,11):\n",
    "    print(\"\\t\" ,inside)"
   ]
  },
  {
   "cell_type": "code",
   "execution_count": null,
   "id": "098ac6f4",
   "metadata": {},
   "outputs": [],
   "source": []
  }
 ],
 "metadata": {
  "kernelspec": {
   "display_name": "Python 3",
   "language": "python",
   "name": "python3"
  },
  "language_info": {
   "codemirror_mode": {
    "name": "ipython",
    "version": 3
   },
   "file_extension": ".py",
   "mimetype": "text/x-python",
   "name": "python",
   "nbconvert_exporter": "python",
   "pygments_lexer": "ipython3",
   "version": "3.8.8"
  }
 },
 "nbformat": 4,
 "nbformat_minor": 5
}
